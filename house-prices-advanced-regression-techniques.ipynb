{
 "cells": [
  {
   "cell_type": "markdown",
   "id": "b3005f79",
   "metadata": {},
   "source": [
    "## Setup and Initial Exploration\n"
   ]
  },
  {
   "cell_type": "code",
   "execution_count": 1,
   "id": "cab4be46",
   "metadata": {},
   "outputs": [
    {
     "name": "stderr",
     "output_type": "stream",
     "text": [
      "/Users/john/anaconda3/lib/python3.11/site-packages/pandas/core/arrays/masked.py:60: UserWarning: Pandas requires version '1.3.6' or newer of 'bottleneck' (version '1.3.5' currently installed).\n",
      "  from pandas.core import (\n"
     ]
    },
    {
     "name": "stdout",
     "output_type": "stream",
     "text": [
      "   Id  MSSubClass MSZoning  LotFrontage  LotArea Street Alley LotShape  \\\n",
      "0   1          60       RL         65.0     8450   Pave   NaN      Reg   \n",
      "1   2          20       RL         80.0     9600   Pave   NaN      Reg   \n",
      "2   3          60       RL         68.0    11250   Pave   NaN      IR1   \n",
      "3   4          70       RL         60.0     9550   Pave   NaN      IR1   \n",
      "4   5          60       RL         84.0    14260   Pave   NaN      IR1   \n",
      "\n",
      "  LandContour Utilities  ... PoolArea PoolQC Fence MiscFeature MiscVal MoSold  \\\n",
      "0         Lvl    AllPub  ...        0    NaN   NaN         NaN       0      2   \n",
      "1         Lvl    AllPub  ...        0    NaN   NaN         NaN       0      5   \n",
      "2         Lvl    AllPub  ...        0    NaN   NaN         NaN       0      9   \n",
      "3         Lvl    AllPub  ...        0    NaN   NaN         NaN       0      2   \n",
      "4         Lvl    AllPub  ...        0    NaN   NaN         NaN       0     12   \n",
      "\n",
      "  YrSold  SaleType  SaleCondition  SalePrice  \n",
      "0   2008        WD         Normal     208500  \n",
      "1   2007        WD         Normal     181500  \n",
      "2   2008        WD         Normal     223500  \n",
      "3   2006        WD        Abnorml     140000  \n",
      "4   2008        WD         Normal     250000  \n",
      "\n",
      "[5 rows x 81 columns]\n",
      "<class 'pandas.core.frame.DataFrame'>\n",
      "RangeIndex: 1460 entries, 0 to 1459\n",
      "Data columns (total 81 columns):\n",
      " #   Column         Non-Null Count  Dtype  \n",
      "---  ------         --------------  -----  \n",
      " 0   Id             1460 non-null   int64  \n",
      " 1   MSSubClass     1460 non-null   int64  \n",
      " 2   MSZoning       1460 non-null   object \n",
      " 3   LotFrontage    1201 non-null   float64\n",
      " 4   LotArea        1460 non-null   int64  \n",
      " 5   Street         1460 non-null   object \n",
      " 6   Alley          91 non-null     object \n",
      " 7   LotShape       1460 non-null   object \n",
      " 8   LandContour    1460 non-null   object \n",
      " 9   Utilities      1460 non-null   object \n",
      " 10  LotConfig      1460 non-null   object \n",
      " 11  LandSlope      1460 non-null   object \n",
      " 12  Neighborhood   1460 non-null   object \n",
      " 13  Condition1     1460 non-null   object \n",
      " 14  Condition2     1460 non-null   object \n",
      " 15  BldgType       1460 non-null   object \n",
      " 16  HouseStyle     1460 non-null   object \n",
      " 17  OverallQual    1460 non-null   int64  \n",
      " 18  OverallCond    1460 non-null   int64  \n",
      " 19  YearBuilt      1460 non-null   int64  \n",
      " 20  YearRemodAdd   1460 non-null   int64  \n",
      " 21  RoofStyle      1460 non-null   object \n",
      " 22  RoofMatl       1460 non-null   object \n",
      " 23  Exterior1st    1460 non-null   object \n",
      " 24  Exterior2nd    1460 non-null   object \n",
      " 25  MasVnrType     588 non-null    object \n",
      " 26  MasVnrArea     1452 non-null   float64\n",
      " 27  ExterQual      1460 non-null   object \n",
      " 28  ExterCond      1460 non-null   object \n",
      " 29  Foundation     1460 non-null   object \n",
      " 30  BsmtQual       1423 non-null   object \n",
      " 31  BsmtCond       1423 non-null   object \n",
      " 32  BsmtExposure   1422 non-null   object \n",
      " 33  BsmtFinType1   1423 non-null   object \n",
      " 34  BsmtFinSF1     1460 non-null   int64  \n",
      " 35  BsmtFinType2   1422 non-null   object \n",
      " 36  BsmtFinSF2     1460 non-null   int64  \n",
      " 37  BsmtUnfSF      1460 non-null   int64  \n",
      " 38  TotalBsmtSF    1460 non-null   int64  \n",
      " 39  Heating        1460 non-null   object \n",
      " 40  HeatingQC      1460 non-null   object \n",
      " 41  CentralAir     1460 non-null   object \n",
      " 42  Electrical     1459 non-null   object \n",
      " 43  1stFlrSF       1460 non-null   int64  \n",
      " 44  2ndFlrSF       1460 non-null   int64  \n",
      " 45  LowQualFinSF   1460 non-null   int64  \n",
      " 46  GrLivArea      1460 non-null   int64  \n",
      " 47  BsmtFullBath   1460 non-null   int64  \n",
      " 48  BsmtHalfBath   1460 non-null   int64  \n",
      " 49  FullBath       1460 non-null   int64  \n",
      " 50  HalfBath       1460 non-null   int64  \n",
      " 51  BedroomAbvGr   1460 non-null   int64  \n",
      " 52  KitchenAbvGr   1460 non-null   int64  \n",
      " 53  KitchenQual    1460 non-null   object \n",
      " 54  TotRmsAbvGrd   1460 non-null   int64  \n",
      " 55  Functional     1460 non-null   object \n",
      " 56  Fireplaces     1460 non-null   int64  \n",
      " 57  FireplaceQu    770 non-null    object \n",
      " 58  GarageType     1379 non-null   object \n",
      " 59  GarageYrBlt    1379 non-null   float64\n",
      " 60  GarageFinish   1379 non-null   object \n",
      " 61  GarageCars     1460 non-null   int64  \n",
      " 62  GarageArea     1460 non-null   int64  \n",
      " 63  GarageQual     1379 non-null   object \n",
      " 64  GarageCond     1379 non-null   object \n",
      " 65  PavedDrive     1460 non-null   object \n",
      " 66  WoodDeckSF     1460 non-null   int64  \n",
      " 67  OpenPorchSF    1460 non-null   int64  \n",
      " 68  EnclosedPorch  1460 non-null   int64  \n",
      " 69  3SsnPorch      1460 non-null   int64  \n",
      " 70  ScreenPorch    1460 non-null   int64  \n",
      " 71  PoolArea       1460 non-null   int64  \n",
      " 72  PoolQC         7 non-null      object \n",
      " 73  Fence          281 non-null    object \n",
      " 74  MiscFeature    54 non-null     object \n",
      " 75  MiscVal        1460 non-null   int64  \n",
      " 76  MoSold         1460 non-null   int64  \n",
      " 77  YrSold         1460 non-null   int64  \n",
      " 78  SaleType       1460 non-null   object \n",
      " 79  SaleCondition  1460 non-null   object \n",
      " 80  SalePrice      1460 non-null   int64  \n",
      "dtypes: float64(3), int64(35), object(43)\n",
      "memory usage: 924.0+ KB\n",
      "None\n",
      "                Id   MSSubClass  LotFrontage        LotArea  OverallQual  \\\n",
      "count  1460.000000  1460.000000  1201.000000    1460.000000  1460.000000   \n",
      "mean    730.500000    56.897260    70.049958   10516.828082     6.099315   \n",
      "std     421.610009    42.300571    24.284752    9981.264932     1.382997   \n",
      "min       1.000000    20.000000    21.000000    1300.000000     1.000000   \n",
      "25%     365.750000    20.000000    59.000000    7553.500000     5.000000   \n",
      "50%     730.500000    50.000000    69.000000    9478.500000     6.000000   \n",
      "75%    1095.250000    70.000000    80.000000   11601.500000     7.000000   \n",
      "max    1460.000000   190.000000   313.000000  215245.000000    10.000000   \n",
      "\n",
      "       OverallCond    YearBuilt  YearRemodAdd   MasVnrArea   BsmtFinSF1  ...  \\\n",
      "count  1460.000000  1460.000000   1460.000000  1452.000000  1460.000000  ...   \n",
      "mean      5.575342  1971.267808   1984.865753   103.685262   443.639726  ...   \n",
      "std       1.112799    30.202904     20.645407   181.066207   456.098091  ...   \n",
      "min       1.000000  1872.000000   1950.000000     0.000000     0.000000  ...   \n",
      "25%       5.000000  1954.000000   1967.000000     0.000000     0.000000  ...   \n",
      "50%       5.000000  1973.000000   1994.000000     0.000000   383.500000  ...   \n",
      "75%       6.000000  2000.000000   2004.000000   166.000000   712.250000  ...   \n",
      "max       9.000000  2010.000000   2010.000000  1600.000000  5644.000000  ...   \n",
      "\n",
      "        WoodDeckSF  OpenPorchSF  EnclosedPorch    3SsnPorch  ScreenPorch  \\\n",
      "count  1460.000000  1460.000000    1460.000000  1460.000000  1460.000000   \n",
      "mean     94.244521    46.660274      21.954110     3.409589    15.060959   \n",
      "std     125.338794    66.256028      61.119149    29.317331    55.757415   \n",
      "min       0.000000     0.000000       0.000000     0.000000     0.000000   \n",
      "25%       0.000000     0.000000       0.000000     0.000000     0.000000   \n",
      "50%       0.000000    25.000000       0.000000     0.000000     0.000000   \n",
      "75%     168.000000    68.000000       0.000000     0.000000     0.000000   \n",
      "max     857.000000   547.000000     552.000000   508.000000   480.000000   \n",
      "\n",
      "          PoolArea       MiscVal       MoSold       YrSold      SalePrice  \n",
      "count  1460.000000   1460.000000  1460.000000  1460.000000    1460.000000  \n",
      "mean      2.758904     43.489041     6.321918  2007.815753  180921.195890  \n",
      "std      40.177307    496.123024     2.703626     1.328095   79442.502883  \n",
      "min       0.000000      0.000000     1.000000  2006.000000   34900.000000  \n",
      "25%       0.000000      0.000000     5.000000  2007.000000  129975.000000  \n",
      "50%       0.000000      0.000000     6.000000  2008.000000  163000.000000  \n",
      "75%       0.000000      0.000000     8.000000  2009.000000  214000.000000  \n",
      "max     738.000000  15500.000000    12.000000  2010.000000  755000.000000  \n",
      "\n",
      "[8 rows x 38 columns]\n"
     ]
    },
    {
     "data": {
      "image/png": "[encoded data removed]",
      "text/plain": [
       "<Figure size 640x480 with 1 Axes>"
      ]
     },
     "metadata": {},
     "output_type": "display_data"
    }
   ],
   "source": [
    "import numpy as np\n",
    "import pandas as pd\n",
    "import matplotlib.pyplot as plt\n",
    "import seaborn as sns\n",
    "from sklearn.model_selection import train_test_split, cross_val_score, GridSearchCV\n",
    "from sklearn.preprocessing import StandardScaler, LabelEncoder\n",
    "from sklearn.metrics import mean_squared_error\n",
    "from sklearn.linear_model import LinearRegression\n",
    "import os\n",
    "\n",
    "# Load the data\n",
    "train_df = pd.read_csv('/Users/john/Downloads/house-prices-advanced-regression-techniques/train.csv')\n",
    "test_df = pd.read_csv('/Users/john/Downloads/house-prices-advanced-regression-techniques/test.csv')\n",
    "sample_submission = pd.read_csv('/Users/john/Downloads/house-prices-advanced-regression-techniques/sample_submission.csv')\n",
    "\n",
    "# Initial exploration\n",
    "print(train_df.head())\n",
    "print(train_df.info())\n",
    "print(train_df.describe())\n",
    "\n",
    "# Check for missing values\n",
    "missing = train_df.isnull().sum()\n",
    "missing = missing[missing > 0]\n",
    "missing.sort_values(inplace=True)\n",
    "missing.plot.bar()\n",
    "\n",
    "plt.show()\n"
   ]
  },
  {
   "cell_type": "markdown",
   "id": "bf62da79",
   "metadata": {},
   "source": [
    "## Feature Engineering"
   ]
  },
  {
   "cell_type": "code",
   "execution_count": 2,
   "id": "d618e479",
   "metadata": {},
   "outputs": [
    {
     "ename": "TypeError",
     "evalue": "Cannot convert [['RL' 'RL' 'RL' ... 'RL' 'RL' 'RL']\n ['Pave' 'Pave' 'Pave' ... 'Pave' 'Pave' 'Pave']\n [nan nan nan ... nan nan nan]\n ...\n [nan nan nan ... 'Shed' nan nan]\n ['WD' 'WD' 'WD' ... 'WD' 'WD' 'WD']\n ['Normal' 'Normal' 'Normal' ... 'Normal' 'Normal' 'Normal']] to numeric",
     "output_type": "error",
     "traceback": [
      "\u001b[0;31m---------------------------------------------------------------------------\u001b[0m",
      "\u001b[0;31mTypeError\u001b[0m                                 Traceback (most recent call last)",
      "Cell \u001b[0;32mIn[2], line 2\u001b[0m\n\u001b[1;32m      1\u001b[0m \u001b[38;5;66;03m# Fill missing values\u001b[39;00m\n\u001b[0;32m----> 2\u001b[0m train_df\u001b[38;5;241m.\u001b[39mfillna(train_df\u001b[38;5;241m.\u001b[39mmedian(), inplace\u001b[38;5;241m=\u001b[39m\u001b[38;5;28;01mTrue\u001b[39;00m)\n\u001b[1;32m      3\u001b[0m test_df\u001b[38;5;241m.\u001b[39mfillna(test_df\u001b[38;5;241m.\u001b[39mmedian(), inplace\u001b[38;5;241m=\u001b[39m\u001b[38;5;28;01mTrue\u001b[39;00m)\n\u001b[1;32m      5\u001b[0m \u001b[38;5;66;03m# Encode categorical variables\u001b[39;00m\n",
      "File \u001b[0;32m~/anaconda3/lib/python3.11/site-packages/pandas/core/frame.py:11679\u001b[0m, in \u001b[0;36mDataFrame.median\u001b[0;34m(self, axis, skipna, numeric_only, **kwargs)\u001b[0m\n\u001b[1;32m  11671\u001b[0m \u001b[38;5;129m@doc\u001b[39m(make_doc(\u001b[38;5;124m\"\u001b[39m\u001b[38;5;124mmedian\u001b[39m\u001b[38;5;124m\"\u001b[39m, ndim\u001b[38;5;241m=\u001b[39m\u001b[38;5;241m2\u001b[39m))\n\u001b[1;32m  11672\u001b[0m \u001b[38;5;28;01mdef\u001b[39;00m \u001b[38;5;21mmedian\u001b[39m(\n\u001b[1;32m  11673\u001b[0m     \u001b[38;5;28mself\u001b[39m,\n\u001b[0;32m   (...)\u001b[0m\n\u001b[1;32m  11677\u001b[0m     \u001b[38;5;241m*\u001b[39m\u001b[38;5;241m*\u001b[39mkwargs,\n\u001b[1;32m  11678\u001b[0m ):\n\u001b[0;32m> 11679\u001b[0m     result \u001b[38;5;241m=\u001b[39m \u001b[38;5;28msuper\u001b[39m()\u001b[38;5;241m.\u001b[39mmedian(axis, skipna, numeric_only, \u001b[38;5;241m*\u001b[39m\u001b[38;5;241m*\u001b[39mkwargs)\n\u001b[1;32m  11680\u001b[0m     \u001b[38;5;28;01mif\u001b[39;00m \u001b[38;5;28misinstance\u001b[39m(result, Series):\n\u001b[1;32m  11681\u001b[0m         result \u001b[38;5;241m=\u001b[39m result\u001b[38;5;241m.\u001b[39m__finalize__(\u001b[38;5;28mself\u001b[39m, method\u001b[38;5;241m=\u001b[39m\u001b[38;5;124m\"\u001b[39m\u001b[38;5;124mmedian\u001b[39m\u001b[38;5;124m\"\u001b[39m)\n",
      "File \u001b[0;32m~/anaconda3/lib/python3.11/site-packages/pandas/core/generic.py:12424\u001b[0m, in \u001b[0;36mNDFrame.median\u001b[0;34m(self, axis, skipna, numeric_only, **kwargs)\u001b[0m\n\u001b[1;32m  12417\u001b[0m \u001b[38;5;28;01mdef\u001b[39;00m \u001b[38;5;21mmedian\u001b[39m(\n\u001b[1;32m  12418\u001b[0m     \u001b[38;5;28mself\u001b[39m,\n\u001b[1;32m  12419\u001b[0m     axis: Axis \u001b[38;5;241m|\u001b[39m \u001b[38;5;28;01mNone\u001b[39;00m \u001b[38;5;241m=\u001b[39m \u001b[38;5;241m0\u001b[39m,\n\u001b[0;32m   (...)\u001b[0m\n\u001b[1;32m  12422\u001b[0m     \u001b[38;5;241m*\u001b[39m\u001b[38;5;241m*\u001b[39mkwargs,\n\u001b[1;32m  12423\u001b[0m ) \u001b[38;5;241m-\u001b[39m\u001b[38;5;241m>\u001b[39m Series \u001b[38;5;241m|\u001b[39m \u001b[38;5;28mfloat\u001b[39m:\n\u001b[0;32m> 12424\u001b[0m     \u001b[38;5;28;01mreturn\u001b[39;00m \u001b[38;5;28mself\u001b[39m\u001b[38;5;241m.\u001b[39m_stat_function(\n\u001b[1;32m  12425\u001b[0m         \u001b[38;5;124m\"\u001b[39m\u001b[38;5;124mmedian\u001b[39m\u001b[38;5;124m\"\u001b[39m, nanops\u001b[38;5;241m.\u001b[39mnanmedian, axis, skipna, numeric_only, \u001b[38;5;241m*\u001b[39m\u001b[38;5;241m*\u001b[39mkwargs\n\u001b[1;32m  12426\u001b[0m     )\n",
      "File \u001b[0;32m~/anaconda3/lib/python3.11/site-packages/pandas/core/generic.py:12370\u001b[0m, in \u001b[0;36mNDFrame._stat_function\u001b[0;34m(self, name, func, axis, skipna, numeric_only, **kwargs)\u001b[0m\n\u001b[1;32m  12366\u001b[0m nv\u001b[38;5;241m.\u001b[39mvalidate_func(name, (), kwargs)\n\u001b[1;32m  12368\u001b[0m validate_bool_kwarg(skipna, \u001b[38;5;124m\"\u001b[39m\u001b[38;5;124mskipna\u001b[39m\u001b[38;5;124m\"\u001b[39m, none_allowed\u001b[38;5;241m=\u001b[39m\u001b[38;5;28;01mFalse\u001b[39;00m)\n\u001b[0;32m> 12370\u001b[0m \u001b[38;5;28;01mreturn\u001b[39;00m \u001b[38;5;28mself\u001b[39m\u001b[38;5;241m.\u001b[39m_reduce(\n\u001b[1;32m  12371\u001b[0m     func, name\u001b[38;5;241m=\u001b[39mname, axis\u001b[38;5;241m=\u001b[39maxis, skipna\u001b[38;5;241m=\u001b[39mskipna, numeric_only\u001b[38;5;241m=\u001b[39mnumeric_only\n\u001b[1;32m  12372\u001b[0m )\n",
      "File \u001b[0;32m~/anaconda3/lib/python3.11/site-packages/pandas/core/frame.py:11535\u001b[0m, in \u001b[0;36mDataFrame._reduce\u001b[0;34m(self, op, name, axis, skipna, numeric_only, filter_type, **kwds)\u001b[0m\n\u001b[1;32m  11531\u001b[0m     df \u001b[38;5;241m=\u001b[39m df\u001b[38;5;241m.\u001b[39mT\n\u001b[1;32m  11533\u001b[0m \u001b[38;5;66;03m# After possibly _get_data and transposing, we are now in the\u001b[39;00m\n\u001b[1;32m  11534\u001b[0m \u001b[38;5;66;03m#  simple case where we can use BlockManager.reduce\u001b[39;00m\n\u001b[0;32m> 11535\u001b[0m res \u001b[38;5;241m=\u001b[39m df\u001b[38;5;241m.\u001b[39m_mgr\u001b[38;5;241m.\u001b[39mreduce(blk_func)\n\u001b[1;32m  11536\u001b[0m out \u001b[38;5;241m=\u001b[39m df\u001b[38;5;241m.\u001b[39m_constructor_from_mgr(res, axes\u001b[38;5;241m=\u001b[39mres\u001b[38;5;241m.\u001b[39maxes)\u001b[38;5;241m.\u001b[39miloc[\u001b[38;5;241m0\u001b[39m]\n\u001b[1;32m  11537\u001b[0m \u001b[38;5;28;01mif\u001b[39;00m out_dtype \u001b[38;5;129;01mis\u001b[39;00m \u001b[38;5;129;01mnot\u001b[39;00m \u001b[38;5;28;01mNone\u001b[39;00m \u001b[38;5;129;01mand\u001b[39;00m out\u001b[38;5;241m.\u001b[39mdtype \u001b[38;5;241m!=\u001b[39m \u001b[38;5;124m\"\u001b[39m\u001b[38;5;124mboolean\u001b[39m\u001b[38;5;124m\"\u001b[39m:\n",
      "File \u001b[0;32m~/anaconda3/lib/python3.11/site-packages/pandas/core/internals/managers.py:1501\u001b[0m, in \u001b[0;36mBlockManager.reduce\u001b[0;34m(self, func)\u001b[0m\n\u001b[1;32m   1499\u001b[0m res_blocks: \u001b[38;5;28mlist\u001b[39m[Block] \u001b[38;5;241m=\u001b[39m []\n\u001b[1;32m   1500\u001b[0m \u001b[38;5;28;01mfor\u001b[39;00m blk \u001b[38;5;129;01min\u001b[39;00m \u001b[38;5;28mself\u001b[39m\u001b[38;5;241m.\u001b[39mblocks:\n\u001b[0;32m-> 1501\u001b[0m     nbs \u001b[38;5;241m=\u001b[39m blk\u001b[38;5;241m.\u001b[39mreduce(func)\n\u001b[1;32m   1502\u001b[0m     res_blocks\u001b[38;5;241m.\u001b[39mextend(nbs)\n\u001b[1;32m   1504\u001b[0m index \u001b[38;5;241m=\u001b[39m Index([\u001b[38;5;28;01mNone\u001b[39;00m])  \u001b[38;5;66;03m# placeholder\u001b[39;00m\n",
      "File \u001b[0;32m~/anaconda3/lib/python3.11/site-packages/pandas/core/internals/blocks.py:404\u001b[0m, in \u001b[0;36mBlock.reduce\u001b[0;34m(self, func)\u001b[0m\n\u001b[1;32m    398\u001b[0m \u001b[38;5;129m@final\u001b[39m\n\u001b[1;32m    399\u001b[0m \u001b[38;5;28;01mdef\u001b[39;00m \u001b[38;5;21mreduce\u001b[39m(\u001b[38;5;28mself\u001b[39m, func) \u001b[38;5;241m-\u001b[39m\u001b[38;5;241m>\u001b[39m \u001b[38;5;28mlist\u001b[39m[Block]:\n\u001b[1;32m    400\u001b[0m     \u001b[38;5;66;03m# We will apply the function and reshape the result into a single-row\u001b[39;00m\n\u001b[1;32m    401\u001b[0m     \u001b[38;5;66;03m#  Block with the same mgr_locs; squeezing will be done at a higher level\u001b[39;00m\n\u001b[1;32m    402\u001b[0m     \u001b[38;5;28;01massert\u001b[39;00m \u001b[38;5;28mself\u001b[39m\u001b[38;5;241m.\u001b[39mndim \u001b[38;5;241m==\u001b[39m \u001b[38;5;241m2\u001b[39m\n\u001b[0;32m--> 404\u001b[0m     result \u001b[38;5;241m=\u001b[39m func(\u001b[38;5;28mself\u001b[39m\u001b[38;5;241m.\u001b[39mvalues)\n\u001b[1;32m    406\u001b[0m     \u001b[38;5;28;01mif\u001b[39;00m \u001b[38;5;28mself\u001b[39m\u001b[38;5;241m.\u001b[39mvalues\u001b[38;5;241m.\u001b[39mndim \u001b[38;5;241m==\u001b[39m \u001b[38;5;241m1\u001b[39m:\n\u001b[1;32m    407\u001b[0m         res_values \u001b[38;5;241m=\u001b[39m result\n",
      "File \u001b[0;32m~/anaconda3/lib/python3.11/site-packages/pandas/core/frame.py:11454\u001b[0m, in \u001b[0;36mDataFrame._reduce.<locals>.blk_func\u001b[0;34m(values, axis)\u001b[0m\n\u001b[1;32m  11452\u001b[0m         \u001b[38;5;28;01mreturn\u001b[39;00m np\u001b[38;5;241m.\u001b[39marray([result])\n\u001b[1;32m  11453\u001b[0m \u001b[38;5;28;01melse\u001b[39;00m:\n\u001b[0;32m> 11454\u001b[0m     \u001b[38;5;28;01mreturn\u001b[39;00m op(values, axis\u001b[38;5;241m=\u001b[39maxis, skipna\u001b[38;5;241m=\u001b[39mskipna, \u001b[38;5;241m*\u001b[39m\u001b[38;5;241m*\u001b[39mkwds)\n",
      "File \u001b[0;32m~/anaconda3/lib/python3.11/site-packages/pandas/core/nanops.py:147\u001b[0m, in \u001b[0;36mbottleneck_switch.__call__.<locals>.f\u001b[0;34m(values, axis, skipna, **kwds)\u001b[0m\n\u001b[1;32m    145\u001b[0m         result \u001b[38;5;241m=\u001b[39m alt(values, axis\u001b[38;5;241m=\u001b[39maxis, skipna\u001b[38;5;241m=\u001b[39mskipna, \u001b[38;5;241m*\u001b[39m\u001b[38;5;241m*\u001b[39mkwds)\n\u001b[1;32m    146\u001b[0m \u001b[38;5;28;01melse\u001b[39;00m:\n\u001b[0;32m--> 147\u001b[0m     result \u001b[38;5;241m=\u001b[39m alt(values, axis\u001b[38;5;241m=\u001b[39maxis, skipna\u001b[38;5;241m=\u001b[39mskipna, \u001b[38;5;241m*\u001b[39m\u001b[38;5;241m*\u001b[39mkwds)\n\u001b[1;32m    149\u001b[0m \u001b[38;5;28;01mreturn\u001b[39;00m result\n",
      "File \u001b[0;32m~/anaconda3/lib/python3.11/site-packages/pandas/core/nanops.py:787\u001b[0m, in \u001b[0;36mnanmedian\u001b[0;34m(values, axis, skipna, mask)\u001b[0m\n\u001b[1;32m    785\u001b[0m     inferred \u001b[38;5;241m=\u001b[39m lib\u001b[38;5;241m.\u001b[39minfer_dtype(values)\n\u001b[1;32m    786\u001b[0m     \u001b[38;5;28;01mif\u001b[39;00m inferred \u001b[38;5;129;01min\u001b[39;00m [\u001b[38;5;124m\"\u001b[39m\u001b[38;5;124mstring\u001b[39m\u001b[38;5;124m\"\u001b[39m, \u001b[38;5;124m\"\u001b[39m\u001b[38;5;124mmixed\u001b[39m\u001b[38;5;124m\"\u001b[39m]:\n\u001b[0;32m--> 787\u001b[0m         \u001b[38;5;28;01mraise\u001b[39;00m \u001b[38;5;167;01mTypeError\u001b[39;00m(\u001b[38;5;124mf\u001b[39m\u001b[38;5;124m\"\u001b[39m\u001b[38;5;124mCannot convert \u001b[39m\u001b[38;5;132;01m{\u001b[39;00mvalues\u001b[38;5;132;01m}\u001b[39;00m\u001b[38;5;124m to numeric\u001b[39m\u001b[38;5;124m\"\u001b[39m)\n\u001b[1;32m    788\u001b[0m \u001b[38;5;28;01mtry\u001b[39;00m:\n\u001b[1;32m    789\u001b[0m     values \u001b[38;5;241m=\u001b[39m values\u001b[38;5;241m.\u001b[39mastype(\u001b[38;5;124m\"\u001b[39m\u001b[38;5;124mf8\u001b[39m\u001b[38;5;124m\"\u001b[39m)\n",
      "\u001b[0;31mTypeError\u001b[0m: Cannot convert [['RL' 'RL' 'RL' ... 'RL' 'RL' 'RL']\n ['Pave' 'Pave' 'Pave' ... 'Pave' 'Pave' 'Pave']\n [nan nan nan ... nan nan nan]\n ...\n [nan nan nan ... 'Shed' nan nan]\n ['WD' 'WD' 'WD' ... 'WD' 'WD' 'WD']\n ['Normal' 'Normal' 'Normal' ... 'Normal' 'Normal' 'Normal']] to numeric"
     ]
    }
   ],
   "source": [
    "# Fill missing values\n",
    "train_df.fillna(train_df.median(), inplace=True)\n",
    "test_df.fillna(test_df.median(), inplace=True)\n",
    "\n",
    "# Encode categorical variables\n",
    "label_encoders = {}\n",
    "for column in train_df.select_dtypes(include=['object']).columns:\n",
    "    le = LabelEncoder()\n",
    "    train_df[column] = le.fit_transform(train_df[column])\n",
    "    test_df[column] = le.transform(test_df[column])\n",
    "    label_encoders[column] = le\n",
    "\n",
    "# Feature scaling\n",
    "scaler = StandardScaler()\n",
    "train_df[train_df.select_dtypes(include=[np.number]).columns] = scaler.fit_transform(train_df.select_dtypes(include=[np.number]))\n",
    "test_df[test_df.select_dtypes(include=[np.number]).columns] = scaler.transform(test_df.select_dtypes(include=[np.number]))\n",
    "\n",
    "# Feature selection (example using correlation)\n",
    "corr_matrix = train_df.corr()\n",
    "high_corr_features = corr_matrix.index[abs(corr_matrix[\"SalePrice\"]) > 0.5]\n",
    "plt.figure(figsize=(10,10))\n",
    "sns.heatmap(train_df[high_corr_features].corr(), annot=True, cmap=\"coolwarm\")\n",
    "plt.show()\n",
    "\n",
    "# Use selected features\n",
    "selected_features = high_corr_features.drop(\"SalePrice\")\n",
    "X = train_df[selected_features]\n",
    "y = train_df['SalePrice']\n"
   ]
  },
  {
   "cell_type": "markdown",
   "id": "138ce0cf",
   "metadata": {},
   "source": [
    "## Handle Missing Values and Encode Categorical Variables"
   ]
  },
  {
   "cell_type": "code",
   "execution_count": 3,
   "id": "7b95170d",
   "metadata": {},
   "outputs": [
    {
     "ename": "KeyError",
     "evalue": "\"['SalePrice'] not in index\"",
     "output_type": "error",
     "traceback": [
      "\u001b[0;31m---------------------------------------------------------------------------\u001b[0m",
      "\u001b[0;31mKeyError\u001b[0m                                  Traceback (most recent call last)",
      "Cell \u001b[0;32mIn[3], line 12\u001b[0m\n\u001b[1;32m     10\u001b[0m numeric_features \u001b[38;5;241m=\u001b[39m train_df\u001b[38;5;241m.\u001b[39mselect_dtypes(include\u001b[38;5;241m=\u001b[39m[np\u001b[38;5;241m.\u001b[39mnumber])\u001b[38;5;241m.\u001b[39mcolumns\n\u001b[1;32m     11\u001b[0m train_df[numeric_features] \u001b[38;5;241m=\u001b[39m train_df[numeric_features]\u001b[38;5;241m.\u001b[39mfillna(train_df[numeric_features]\u001b[38;5;241m.\u001b[39mmedian())\n\u001b[0;32m---> 12\u001b[0m test_df[numeric_features] \u001b[38;5;241m=\u001b[39m test_df[numeric_features]\u001b[38;5;241m.\u001b[39mfillna(test_df[numeric_features]\u001b[38;5;241m.\u001b[39mmedian())\n\u001b[1;32m     14\u001b[0m \u001b[38;5;66;03m# Fill missing values for categorical features with the mode\u001b[39;00m\n\u001b[1;32m     15\u001b[0m categorical_features \u001b[38;5;241m=\u001b[39m train_df\u001b[38;5;241m.\u001b[39mselect_dtypes(include\u001b[38;5;241m=\u001b[39m[\u001b[38;5;28mobject\u001b[39m])\u001b[38;5;241m.\u001b[39mcolumns\n",
      "File \u001b[0;32m~/anaconda3/lib/python3.11/site-packages/pandas/core/frame.py:4096\u001b[0m, in \u001b[0;36mDataFrame.__getitem__\u001b[0;34m(self, key)\u001b[0m\n\u001b[1;32m   4094\u001b[0m     \u001b[38;5;28;01mif\u001b[39;00m is_iterator(key):\n\u001b[1;32m   4095\u001b[0m         key \u001b[38;5;241m=\u001b[39m \u001b[38;5;28mlist\u001b[39m(key)\n\u001b[0;32m-> 4096\u001b[0m     indexer \u001b[38;5;241m=\u001b[39m \u001b[38;5;28mself\u001b[39m\u001b[38;5;241m.\u001b[39mcolumns\u001b[38;5;241m.\u001b[39m_get_indexer_strict(key, \u001b[38;5;124m\"\u001b[39m\u001b[38;5;124mcolumns\u001b[39m\u001b[38;5;124m\"\u001b[39m)[\u001b[38;5;241m1\u001b[39m]\n\u001b[1;32m   4098\u001b[0m \u001b[38;5;66;03m# take() does not accept boolean indexers\u001b[39;00m\n\u001b[1;32m   4099\u001b[0m \u001b[38;5;28;01mif\u001b[39;00m \u001b[38;5;28mgetattr\u001b[39m(indexer, \u001b[38;5;124m\"\u001b[39m\u001b[38;5;124mdtype\u001b[39m\u001b[38;5;124m\"\u001b[39m, \u001b[38;5;28;01mNone\u001b[39;00m) \u001b[38;5;241m==\u001b[39m \u001b[38;5;28mbool\u001b[39m:\n",
      "File \u001b[0;32m~/anaconda3/lib/python3.11/site-packages/pandas/core/indexes/base.py:6199\u001b[0m, in \u001b[0;36mIndex._get_indexer_strict\u001b[0;34m(self, key, axis_name)\u001b[0m\n\u001b[1;32m   6196\u001b[0m \u001b[38;5;28;01melse\u001b[39;00m:\n\u001b[1;32m   6197\u001b[0m     keyarr, indexer, new_indexer \u001b[38;5;241m=\u001b[39m \u001b[38;5;28mself\u001b[39m\u001b[38;5;241m.\u001b[39m_reindex_non_unique(keyarr)\n\u001b[0;32m-> 6199\u001b[0m \u001b[38;5;28mself\u001b[39m\u001b[38;5;241m.\u001b[39m_raise_if_missing(keyarr, indexer, axis_name)\n\u001b[1;32m   6201\u001b[0m keyarr \u001b[38;5;241m=\u001b[39m \u001b[38;5;28mself\u001b[39m\u001b[38;5;241m.\u001b[39mtake(indexer)\n\u001b[1;32m   6202\u001b[0m \u001b[38;5;28;01mif\u001b[39;00m \u001b[38;5;28misinstance\u001b[39m(key, Index):\n\u001b[1;32m   6203\u001b[0m     \u001b[38;5;66;03m# GH 42790 - Preserve name from an Index\u001b[39;00m\n",
      "File \u001b[0;32m~/anaconda3/lib/python3.11/site-packages/pandas/core/indexes/base.py:6251\u001b[0m, in \u001b[0;36mIndex._raise_if_missing\u001b[0;34m(self, key, indexer, axis_name)\u001b[0m\n\u001b[1;32m   6248\u001b[0m     \u001b[38;5;28;01mraise\u001b[39;00m \u001b[38;5;167;01mKeyError\u001b[39;00m(\u001b[38;5;124mf\u001b[39m\u001b[38;5;124m\"\u001b[39m\u001b[38;5;124mNone of [\u001b[39m\u001b[38;5;132;01m{\u001b[39;00mkey\u001b[38;5;132;01m}\u001b[39;00m\u001b[38;5;124m] are in the [\u001b[39m\u001b[38;5;132;01m{\u001b[39;00maxis_name\u001b[38;5;132;01m}\u001b[39;00m\u001b[38;5;124m]\u001b[39m\u001b[38;5;124m\"\u001b[39m)\n\u001b[1;32m   6250\u001b[0m not_found \u001b[38;5;241m=\u001b[39m \u001b[38;5;28mlist\u001b[39m(ensure_index(key)[missing_mask\u001b[38;5;241m.\u001b[39mnonzero()[\u001b[38;5;241m0\u001b[39m]]\u001b[38;5;241m.\u001b[39munique())\n\u001b[0;32m-> 6251\u001b[0m \u001b[38;5;28;01mraise\u001b[39;00m \u001b[38;5;167;01mKeyError\u001b[39;00m(\u001b[38;5;124mf\u001b[39m\u001b[38;5;124m\"\u001b[39m\u001b[38;5;132;01m{\u001b[39;00mnot_found\u001b[38;5;132;01m}\u001b[39;00m\u001b[38;5;124m not in index\u001b[39m\u001b[38;5;124m\"\u001b[39m)\n",
      "\u001b[0;31mKeyError\u001b[0m: \"['SalePrice'] not in index\""
     ]
    }
   ],
   "source": [
    "import pandas as pd\n",
    "import numpy as np\n",
    "from sklearn.preprocessing import StandardScaler, LabelEncoder\n",
    "\n",
    "# Load the data\n",
    "train_df = pd.read_csv('/Users/john/Downloads/house-prices-advanced-regression-techniques/train.csv')\n",
    "test_df = pd.read_csv('/Users/john/Downloads/house-prices-advanced-regression-techniques/test.csv')\n",
    "\n",
    "# Fill missing values for numeric features with the median\n",
    "numeric_features = train_df.select_dtypes(include=[np.number]).columns\n",
    "train_df[numeric_features] = train_df[numeric_features].fillna(train_df[numeric_features].median())\n",
    "test_df[numeric_features] = test_df[numeric_features].fillna(test_df[numeric_features].median())\n",
    "\n",
    "# Fill missing values for categorical features with the mode\n",
    "categorical_features = train_df.select_dtypes(include=[object]).columns\n",
    "train_df[categorical_features] = train_df[categorical_features].fillna(train_df[categorical_features].mode().iloc[0])\n",
    "test_df[categorical_features] = test_df[categorical_features].fillna(test_df[categorical_features].mode().iloc[0])\n",
    "\n",
    "# Encode categorical variables\n",
    "label_encoders = {}\n",
    "for column in categorical_features:\n",
    "    le = LabelEncoder()\n",
    "    train_df[column] = le.fit_transform(train_df[column])\n",
    "    test_df[column] = le.transform(test_df[column])\n",
    "    label_encoders[column] = le\n",
    "\n",
    "# Check if there are any remaining missing values\n",
    "print(train_df.isnull().sum().sum())\n",
    "print(test_df.isnull().sum().sum())\n"
   ]
  },
  {
   "cell_type": "code",
   "execution_count": 4,
   "id": "925bf7f8",
   "metadata": {},
   "outputs": [
    {
     "ename": "KeyError",
     "evalue": "\"['SalePrice'] not in index\"",
     "output_type": "error",
     "traceback": [
      "\u001b[0;31m---------------------------------------------------------------------------\u001b[0m",
      "\u001b[0;31mKeyError\u001b[0m                                  Traceback (most recent call last)",
      "Cell \u001b[0;32mIn[4], line 12\u001b[0m\n\u001b[1;32m     10\u001b[0m numeric_features \u001b[38;5;241m=\u001b[39m train_df\u001b[38;5;241m.\u001b[39mselect_dtypes(include\u001b[38;5;241m=\u001b[39m[np\u001b[38;5;241m.\u001b[39mnumber])\u001b[38;5;241m.\u001b[39mcolumns\n\u001b[1;32m     11\u001b[0m train_df[numeric_features] \u001b[38;5;241m=\u001b[39m train_df[numeric_features]\u001b[38;5;241m.\u001b[39mfillna(train_df[numeric_features]\u001b[38;5;241m.\u001b[39mmedian())\n\u001b[0;32m---> 12\u001b[0m test_df[numeric_features] \u001b[38;5;241m=\u001b[39m test_df[numeric_features]\u001b[38;5;241m.\u001b[39mfillna(test_df[numeric_features]\u001b[38;5;241m.\u001b[39mmedian())\n\u001b[1;32m     14\u001b[0m \u001b[38;5;66;03m# Fill missing values for categorical features with the mode\u001b[39;00m\n\u001b[1;32m     15\u001b[0m categorical_features \u001b[38;5;241m=\u001b[39m train_df\u001b[38;5;241m.\u001b[39mselect_dtypes(include\u001b[38;5;241m=\u001b[39m[\u001b[38;5;28mobject\u001b[39m])\u001b[38;5;241m.\u001b[39mcolumns\n",
      "File \u001b[0;32m~/anaconda3/lib/python3.11/site-packages/pandas/core/frame.py:4096\u001b[0m, in \u001b[0;36mDataFrame.__getitem__\u001b[0;34m(self, key)\u001b[0m\n\u001b[1;32m   4094\u001b[0m     \u001b[38;5;28;01mif\u001b[39;00m is_iterator(key):\n\u001b[1;32m   4095\u001b[0m         key \u001b[38;5;241m=\u001b[39m \u001b[38;5;28mlist\u001b[39m(key)\n\u001b[0;32m-> 4096\u001b[0m     indexer \u001b[38;5;241m=\u001b[39m \u001b[38;5;28mself\u001b[39m\u001b[38;5;241m.\u001b[39mcolumns\u001b[38;5;241m.\u001b[39m_get_indexer_strict(key, \u001b[38;5;124m\"\u001b[39m\u001b[38;5;124mcolumns\u001b[39m\u001b[38;5;124m\"\u001b[39m)[\u001b[38;5;241m1\u001b[39m]\n\u001b[1;32m   4098\u001b[0m \u001b[38;5;66;03m# take() does not accept boolean indexers\u001b[39;00m\n\u001b[1;32m   4099\u001b[0m \u001b[38;5;28;01mif\u001b[39;00m \u001b[38;5;28mgetattr\u001b[39m(indexer, \u001b[38;5;124m\"\u001b[39m\u001b[38;5;124mdtype\u001b[39m\u001b[38;5;124m\"\u001b[39m, \u001b[38;5;28;01mNone\u001b[39;00m) \u001b[38;5;241m==\u001b[39m \u001b[38;5;28mbool\u001b[39m:\n",
      "File \u001b[0;32m~/anaconda3/lib/python3.11/site-packages/pandas/core/indexes/base.py:6199\u001b[0m, in \u001b[0;36mIndex._get_indexer_strict\u001b[0;34m(self, key, axis_name)\u001b[0m\n\u001b[1;32m   6196\u001b[0m \u001b[38;5;28;01melse\u001b[39;00m:\n\u001b[1;32m   6197\u001b[0m     keyarr, indexer, new_indexer \u001b[38;5;241m=\u001b[39m \u001b[38;5;28mself\u001b[39m\u001b[38;5;241m.\u001b[39m_reindex_non_unique(keyarr)\n\u001b[0;32m-> 6199\u001b[0m \u001b[38;5;28mself\u001b[39m\u001b[38;5;241m.\u001b[39m_raise_if_missing(keyarr, indexer, axis_name)\n\u001b[1;32m   6201\u001b[0m keyarr \u001b[38;5;241m=\u001b[39m \u001b[38;5;28mself\u001b[39m\u001b[38;5;241m.\u001b[39mtake(indexer)\n\u001b[1;32m   6202\u001b[0m \u001b[38;5;28;01mif\u001b[39;00m \u001b[38;5;28misinstance\u001b[39m(key, Index):\n\u001b[1;32m   6203\u001b[0m     \u001b[38;5;66;03m# GH 42790 - Preserve name from an Index\u001b[39;00m\n",
      "File \u001b[0;32m~/anaconda3/lib/python3.11/site-packages/pandas/core/indexes/base.py:6251\u001b[0m, in \u001b[0;36mIndex._raise_if_missing\u001b[0;34m(self, key, indexer, axis_name)\u001b[0m\n\u001b[1;32m   6248\u001b[0m     \u001b[38;5;28;01mraise\u001b[39;00m \u001b[38;5;167;01mKeyError\u001b[39;00m(\u001b[38;5;124mf\u001b[39m\u001b[38;5;124m\"\u001b[39m\u001b[38;5;124mNone of [\u001b[39m\u001b[38;5;132;01m{\u001b[39;00mkey\u001b[38;5;132;01m}\u001b[39;00m\u001b[38;5;124m] are in the [\u001b[39m\u001b[38;5;132;01m{\u001b[39;00maxis_name\u001b[38;5;132;01m}\u001b[39;00m\u001b[38;5;124m]\u001b[39m\u001b[38;5;124m\"\u001b[39m)\n\u001b[1;32m   6250\u001b[0m not_found \u001b[38;5;241m=\u001b[39m \u001b[38;5;28mlist\u001b[39m(ensure_index(key)[missing_mask\u001b[38;5;241m.\u001b[39mnonzero()[\u001b[38;5;241m0\u001b[39m]]\u001b[38;5;241m.\u001b[39munique())\n\u001b[0;32m-> 6251\u001b[0m \u001b[38;5;28;01mraise\u001b[39;00m \u001b[38;5;167;01mKeyError\u001b[39;00m(\u001b[38;5;124mf\u001b[39m\u001b[38;5;124m\"\u001b[39m\u001b[38;5;132;01m{\u001b[39;00mnot_found\u001b[38;5;132;01m}\u001b[39;00m\u001b[38;5;124m not in index\u001b[39m\u001b[38;5;124m\"\u001b[39m)\n",
      "\u001b[0;31mKeyError\u001b[0m: \"['SalePrice'] not in index\""
     ]
    }
   ],
   "source": [
    "import pandas as pd\n",
    "import numpy as np\n",
    "from sklearn.preprocessing import StandardScaler, LabelEncoder\n",
    "\n",
    "# Load the data\n",
    "train_df = pd.read_csv('/Users/john/Downloads/house-prices-advanced-regression-techniques/train.csv')\n",
    "test_df = pd.read_csv('/Users/john/Downloads/house-prices-advanced-regression-techniques/test.csv')\n",
    "\n",
    "# Fill missing values for numeric features with the median\n",
    "numeric_features = train_df.select_dtypes(include=[np.number]).columns\n",
    "train_df[numeric_features] = train_df[numeric_features].fillna(train_df[numeric_features].median())\n",
    "test_df[numeric_features] = test_df[numeric_features].fillna(test_df[numeric_features].median())\n",
    "\n",
    "# Fill missing values for categorical features with the mode\n",
    "categorical_features = train_df.select_dtypes(include=[object]).columns\n",
    "train_df[categorical_features] = train_df[categorical_features].fillna(train_df[categorical_features].mode().iloc[0])\n",
    "test_df[categorical_features] = test_df[categorical_features].fillna(test_df[categorical_features].mode().iloc[0])\n",
    "\n",
    "# Encode categorical variables\n",
    "label_encoders = {}\n",
    "for column in categorical_features:\n",
    "    le = LabelEncoder()\n",
    "    train_df[column] = le.fit_transform(train_df[column])\n",
    "    test_df[column] = le.transform(test_df[column])\n",
    "    label_encoders[column] = le\n",
    "\n",
    "# Check if there are any remaining missing values\n",
    "print(train_df.isnull().sum().sum())\n",
    "print(test_df.isnull().sum().sum())\n"
   ]
  },
  {
   "cell_type": "code",
   "execution_count": 5,
   "id": "36c4661e",
   "metadata": {},
   "outputs": [
    {
     "ename": "KeyError",
     "evalue": "\"['SalePrice'] not in index\"",
     "output_type": "error",
     "traceback": [
      "\u001b[0;31m---------------------------------------------------------------------------\u001b[0m",
      "\u001b[0;31mKeyError\u001b[0m                                  Traceback (most recent call last)",
      "Cell \u001b[0;32mIn[5], line 12\u001b[0m\n\u001b[1;32m     10\u001b[0m numeric_features \u001b[38;5;241m=\u001b[39m train_df\u001b[38;5;241m.\u001b[39mselect_dtypes(include\u001b[38;5;241m=\u001b[39m[np\u001b[38;5;241m.\u001b[39mnumber])\u001b[38;5;241m.\u001b[39mcolumns\n\u001b[1;32m     11\u001b[0m train_df[numeric_features] \u001b[38;5;241m=\u001b[39m train_df[numeric_features]\u001b[38;5;241m.\u001b[39mfillna(train_df[numeric_features]\u001b[38;5;241m.\u001b[39mmedian())\n\u001b[0;32m---> 12\u001b[0m test_df[numeric_features] \u001b[38;5;241m=\u001b[39m test_df[numeric_features]\u001b[38;5;241m.\u001b[39mfillna(test_df[numeric_features]\u001b[38;5;241m.\u001b[39mmedian())\n\u001b[1;32m     14\u001b[0m \u001b[38;5;66;03m# Fill missing values for categorical features with the mode\u001b[39;00m\n\u001b[1;32m     15\u001b[0m categorical_features \u001b[38;5;241m=\u001b[39m train_df\u001b[38;5;241m.\u001b[39mselect_dtypes(include\u001b[38;5;241m=\u001b[39m[\u001b[38;5;28mobject\u001b[39m])\u001b[38;5;241m.\u001b[39mcolumns\n",
      "File \u001b[0;32m~/anaconda3/lib/python3.11/site-packages/pandas/core/frame.py:4096\u001b[0m, in \u001b[0;36mDataFrame.__getitem__\u001b[0;34m(self, key)\u001b[0m\n\u001b[1;32m   4094\u001b[0m     \u001b[38;5;28;01mif\u001b[39;00m is_iterator(key):\n\u001b[1;32m   4095\u001b[0m         key \u001b[38;5;241m=\u001b[39m \u001b[38;5;28mlist\u001b[39m(key)\n\u001b[0;32m-> 4096\u001b[0m     indexer \u001b[38;5;241m=\u001b[39m \u001b[38;5;28mself\u001b[39m\u001b[38;5;241m.\u001b[39mcolumns\u001b[38;5;241m.\u001b[39m_get_indexer_strict(key, \u001b[38;5;124m\"\u001b[39m\u001b[38;5;124mcolumns\u001b[39m\u001b[38;5;124m\"\u001b[39m)[\u001b[38;5;241m1\u001b[39m]\n\u001b[1;32m   4098\u001b[0m \u001b[38;5;66;03m# take() does not accept boolean indexers\u001b[39;00m\n\u001b[1;32m   4099\u001b[0m \u001b[38;5;28;01mif\u001b[39;00m \u001b[38;5;28mgetattr\u001b[39m(indexer, \u001b[38;5;124m\"\u001b[39m\u001b[38;5;124mdtype\u001b[39m\u001b[38;5;124m\"\u001b[39m, \u001b[38;5;28;01mNone\u001b[39;00m) \u001b[38;5;241m==\u001b[39m \u001b[38;5;28mbool\u001b[39m:\n",
      "File \u001b[0;32m~/anaconda3/lib/python3.11/site-packages/pandas/core/indexes/base.py:6199\u001b[0m, in \u001b[0;36mIndex._get_indexer_strict\u001b[0;34m(self, key, axis_name)\u001b[0m\n\u001b[1;32m   6196\u001b[0m \u001b[38;5;28;01melse\u001b[39;00m:\n\u001b[1;32m   6197\u001b[0m     keyarr, indexer, new_indexer \u001b[38;5;241m=\u001b[39m \u001b[38;5;28mself\u001b[39m\u001b[38;5;241m.\u001b[39m_reindex_non_unique(keyarr)\n\u001b[0;32m-> 6199\u001b[0m \u001b[38;5;28mself\u001b[39m\u001b[38;5;241m.\u001b[39m_raise_if_missing(keyarr, indexer, axis_name)\n\u001b[1;32m   6201\u001b[0m keyarr \u001b[38;5;241m=\u001b[39m \u001b[38;5;28mself\u001b[39m\u001b[38;5;241m.\u001b[39mtake(indexer)\n\u001b[1;32m   6202\u001b[0m \u001b[38;5;28;01mif\u001b[39;00m \u001b[38;5;28misinstance\u001b[39m(key, Index):\n\u001b[1;32m   6203\u001b[0m     \u001b[38;5;66;03m# GH 42790 - Preserve name from an Index\u001b[39;00m\n",
      "File \u001b[0;32m~/anaconda3/lib/python3.11/site-packages/pandas/core/indexes/base.py:6251\u001b[0m, in \u001b[0;36mIndex._raise_if_missing\u001b[0;34m(self, key, indexer, axis_name)\u001b[0m\n\u001b[1;32m   6248\u001b[0m     \u001b[38;5;28;01mraise\u001b[39;00m \u001b[38;5;167;01mKeyError\u001b[39;00m(\u001b[38;5;124mf\u001b[39m\u001b[38;5;124m\"\u001b[39m\u001b[38;5;124mNone of [\u001b[39m\u001b[38;5;132;01m{\u001b[39;00mkey\u001b[38;5;132;01m}\u001b[39;00m\u001b[38;5;124m] are in the [\u001b[39m\u001b[38;5;132;01m{\u001b[39;00maxis_name\u001b[38;5;132;01m}\u001b[39;00m\u001b[38;5;124m]\u001b[39m\u001b[38;5;124m\"\u001b[39m)\n\u001b[1;32m   6250\u001b[0m not_found \u001b[38;5;241m=\u001b[39m \u001b[38;5;28mlist\u001b[39m(ensure_index(key)[missing_mask\u001b[38;5;241m.\u001b[39mnonzero()[\u001b[38;5;241m0\u001b[39m]]\u001b[38;5;241m.\u001b[39munique())\n\u001b[0;32m-> 6251\u001b[0m \u001b[38;5;28;01mraise\u001b[39;00m \u001b[38;5;167;01mKeyError\u001b[39;00m(\u001b[38;5;124mf\u001b[39m\u001b[38;5;124m\"\u001b[39m\u001b[38;5;132;01m{\u001b[39;00mnot_found\u001b[38;5;132;01m}\u001b[39;00m\u001b[38;5;124m not in index\u001b[39m\u001b[38;5;124m\"\u001b[39m)\n",
      "\u001b[0;31mKeyError\u001b[0m: \"['SalePrice'] not in index\""
     ]
    }
   ],
   "source": [
    "import pandas as pd\n",
    "import numpy as np\n",
    "from sklearn.preprocessing import StandardScaler, LabelEncoder\n",
    "\n",
    "# Load the data\n",
    "train_df = pd.read_csv('/Users/john/Downloads/house-prices-advanced-regression-techniques/train.csv')\n",
    "test_df = pd.read_csv('/Users/john/Downloads/house-prices-advanced-regression-techniques/test.csv')\n",
    "\n",
    "# Fill missing values for numeric features with the median\n",
    "numeric_features = train_df.select_dtypes(include=[np.number]).columns\n",
    "train_df[numeric_features] = train_df[numeric_features].fillna(train_df[numeric_features].median())\n",
    "test_df[numeric_features] = test_df[numeric_features].fillna(test_df[numeric_features].median())\n",
    "\n",
    "# Fill missing values for categorical features with the mode\n",
    "categorical_features = train_df.select_dtypes(include=[object]).columns\n",
    "train_df[categorical_features] = train_df[categorical_features].fillna(train_df[categorical_features].mode().iloc[0])\n",
    "test_df[categorical_features] = test_df[categorical_features].fillna(test_df[categorical_features].mode().iloc[0])\n",
    "\n",
    "# Encode categorical variables\n",
    "label_encoders = {}\n",
    "for column in categorical_features:\n",
    "    le = LabelEncoder()\n",
    "    train_df[column] = le.fit_transform(train_df[column])\n",
    "    test_df[column] = le.transform(test_df[column])\n",
    "    label_encoders[column] = le\n",
    "\n",
    "# Ensure all columns are encoded correctly\n",
    "print(train_df.head())\n",
    "print(test_df.head())\n"
   ]
  },
  {
   "cell_type": "code",
   "execution_count": 6,
   "id": "aa2ce399",
   "metadata": {},
   "outputs": [
    {
     "ename": "KeyError",
     "evalue": "\"['SalePrice'] not in index\"",
     "output_type": "error",
     "traceback": [
      "\u001b[0;31m---------------------------------------------------------------------------\u001b[0m",
      "\u001b[0;31mKeyError\u001b[0m                                  Traceback (most recent call last)",
      "Cell \u001b[0;32mIn[6], line 12\u001b[0m\n\u001b[1;32m     10\u001b[0m numeric_features \u001b[38;5;241m=\u001b[39m train_df\u001b[38;5;241m.\u001b[39mselect_dtypes(include\u001b[38;5;241m=\u001b[39m[np\u001b[38;5;241m.\u001b[39mnumber])\u001b[38;5;241m.\u001b[39mcolumns\n\u001b[1;32m     11\u001b[0m train_df[numeric_features] \u001b[38;5;241m=\u001b[39m train_df[numeric_features]\u001b[38;5;241m.\u001b[39mfillna(train_df[numeric_features]\u001b[38;5;241m.\u001b[39mmedian())\n\u001b[0;32m---> 12\u001b[0m test_df[numeric_features] \u001b[38;5;241m=\u001b[39m test_df[numeric_features]\u001b[38;5;241m.\u001b[39mfillna(test_df[numeric_features]\u001b[38;5;241m.\u001b[39mmedian())\n\u001b[1;32m     14\u001b[0m \u001b[38;5;66;03m# Fill missing values for categorical features with the mode\u001b[39;00m\n\u001b[1;32m     15\u001b[0m categorical_features \u001b[38;5;241m=\u001b[39m train_df\u001b[38;5;241m.\u001b[39mselect_dtypes(include\u001b[38;5;241m=\u001b[39m[\u001b[38;5;28mobject\u001b[39m])\u001b[38;5;241m.\u001b[39mcolumns\n",
      "File \u001b[0;32m~/anaconda3/lib/python3.11/site-packages/pandas/core/frame.py:4096\u001b[0m, in \u001b[0;36mDataFrame.__getitem__\u001b[0;34m(self, key)\u001b[0m\n\u001b[1;32m   4094\u001b[0m     \u001b[38;5;28;01mif\u001b[39;00m is_iterator(key):\n\u001b[1;32m   4095\u001b[0m         key \u001b[38;5;241m=\u001b[39m \u001b[38;5;28mlist\u001b[39m(key)\n\u001b[0;32m-> 4096\u001b[0m     indexer \u001b[38;5;241m=\u001b[39m \u001b[38;5;28mself\u001b[39m\u001b[38;5;241m.\u001b[39mcolumns\u001b[38;5;241m.\u001b[39m_get_indexer_strict(key, \u001b[38;5;124m\"\u001b[39m\u001b[38;5;124mcolumns\u001b[39m\u001b[38;5;124m\"\u001b[39m)[\u001b[38;5;241m1\u001b[39m]\n\u001b[1;32m   4098\u001b[0m \u001b[38;5;66;03m# take() does not accept boolean indexers\u001b[39;00m\n\u001b[1;32m   4099\u001b[0m \u001b[38;5;28;01mif\u001b[39;00m \u001b[38;5;28mgetattr\u001b[39m(indexer, \u001b[38;5;124m\"\u001b[39m\u001b[38;5;124mdtype\u001b[39m\u001b[38;5;124m\"\u001b[39m, \u001b[38;5;28;01mNone\u001b[39;00m) \u001b[38;5;241m==\u001b[39m \u001b[38;5;28mbool\u001b[39m:\n",
      "File \u001b[0;32m~/anaconda3/lib/python3.11/site-packages/pandas/core/indexes/base.py:6199\u001b[0m, in \u001b[0;36mIndex._get_indexer_strict\u001b[0;34m(self, key, axis_name)\u001b[0m\n\u001b[1;32m   6196\u001b[0m \u001b[38;5;28;01melse\u001b[39;00m:\n\u001b[1;32m   6197\u001b[0m     keyarr, indexer, new_indexer \u001b[38;5;241m=\u001b[39m \u001b[38;5;28mself\u001b[39m\u001b[38;5;241m.\u001b[39m_reindex_non_unique(keyarr)\n\u001b[0;32m-> 6199\u001b[0m \u001b[38;5;28mself\u001b[39m\u001b[38;5;241m.\u001b[39m_raise_if_missing(keyarr, indexer, axis_name)\n\u001b[1;32m   6201\u001b[0m keyarr \u001b[38;5;241m=\u001b[39m \u001b[38;5;28mself\u001b[39m\u001b[38;5;241m.\u001b[39mtake(indexer)\n\u001b[1;32m   6202\u001b[0m \u001b[38;5;28;01mif\u001b[39;00m \u001b[38;5;28misinstance\u001b[39m(key, Index):\n\u001b[1;32m   6203\u001b[0m     \u001b[38;5;66;03m# GH 42790 - Preserve name from an Index\u001b[39;00m\n",
      "File \u001b[0;32m~/anaconda3/lib/python3.11/site-packages/pandas/core/indexes/base.py:6251\u001b[0m, in \u001b[0;36mIndex._raise_if_missing\u001b[0;34m(self, key, indexer, axis_name)\u001b[0m\n\u001b[1;32m   6248\u001b[0m     \u001b[38;5;28;01mraise\u001b[39;00m \u001b[38;5;167;01mKeyError\u001b[39;00m(\u001b[38;5;124mf\u001b[39m\u001b[38;5;124m\"\u001b[39m\u001b[38;5;124mNone of [\u001b[39m\u001b[38;5;132;01m{\u001b[39;00mkey\u001b[38;5;132;01m}\u001b[39;00m\u001b[38;5;124m] are in the [\u001b[39m\u001b[38;5;132;01m{\u001b[39;00maxis_name\u001b[38;5;132;01m}\u001b[39;00m\u001b[38;5;124m]\u001b[39m\u001b[38;5;124m\"\u001b[39m)\n\u001b[1;32m   6250\u001b[0m not_found \u001b[38;5;241m=\u001b[39m \u001b[38;5;28mlist\u001b[39m(ensure_index(key)[missing_mask\u001b[38;5;241m.\u001b[39mnonzero()[\u001b[38;5;241m0\u001b[39m]]\u001b[38;5;241m.\u001b[39munique())\n\u001b[0;32m-> 6251\u001b[0m \u001b[38;5;28;01mraise\u001b[39;00m \u001b[38;5;167;01mKeyError\u001b[39;00m(\u001b[38;5;124mf\u001b[39m\u001b[38;5;124m\"\u001b[39m\u001b[38;5;132;01m{\u001b[39;00mnot_found\u001b[38;5;132;01m}\u001b[39;00m\u001b[38;5;124m not in index\u001b[39m\u001b[38;5;124m\"\u001b[39m)\n",
      "\u001b[0;31mKeyError\u001b[0m: \"['SalePrice'] not in index\""
     ]
    }
   ],
   "source": [
    "import pandas as pd\n",
    "import numpy as np\n",
    "from sklearn.preprocessing import StandardScaler, LabelEncoder\n",
    "\n",
    "# Load the data\n",
    "train_df = pd.read_csv('/Users/john/Downloads/house-prices-advanced-regression-techniques/train.csv')\n",
    "test_df = pd.read_csv('/Users/john/Downloads/house-prices-advanced-regression-techniques/test.csv')\n",
    "\n",
    "# Fill missing values for numeric features with the median\n",
    "numeric_features = train_df.select_dtypes(include=[np.number]).columns\n",
    "train_df[numeric_features] = train_df[numeric_features].fillna(train_df[numeric_features].median())\n",
    "test_df[numeric_features] = test_df[numeric_features].fillna(test_df[numeric_features].median())\n",
    "\n",
    "# Fill missing values for categorical features with the mode\n",
    "categorical_features = train_df.select_dtypes(include=[object]).columns\n",
    "train_df[categorical_features] = train_df[categorical_features].fillna(train_df[categorical_features].mode().iloc[0])\n",
    "test_df[categorical_features] = test_df[categorical_features].fillna(test_df[categorical_features].mode().iloc[0])\n",
    "\n",
    "# Encode categorical variables\n",
    "label_encoders = {}\n",
    "for column in categorical_features:\n",
    "    le = LabelEncoder()\n",
    "    train_df[column] = le.fit_transform(train_df[column])\n",
    "    test_df[column] = le.transform(test_df[column])\n",
    "    label_encoders[column] = le\n",
    "\n",
    "# Ensure all columns are encoded correctly\n",
    "print(train_df.head())\n",
    "print(test_df.head())\n"
   ]
  },
  {
   "cell_type": "code",
   "execution_count": 7,
   "id": "ab442ab4",
   "metadata": {},
   "outputs": [
    {
     "name": "stdout",
     "output_type": "stream",
     "text": [
      "   Id  MSSubClass  MSZoning  LotFrontage  LotArea  Street  Alley  LotShape  \\\n",
      "0   1          60         3         65.0     8450       1      0         3   \n",
      "1   2          20         3         80.0     9600       1      0         3   \n",
      "2   3          60         3         68.0    11250       1      0         0   \n",
      "3   4          70         3         60.0     9550       1      0         0   \n",
      "4   5          60         3         84.0    14260       1      0         0   \n",
      "\n",
      "   LandContour  Utilities  ...  ScreenPorch  PoolArea  PoolQC  Fence  \\\n",
      "0            3          0  ...            0         0       2      2   \n",
      "1            3          0  ...            0         0       2      2   \n",
      "2            3          0  ...            0         0       2      2   \n",
      "3            3          0  ...            0         0       2      2   \n",
      "4            3          0  ...            0         0       2      2   \n",
      "\n",
      "   MiscFeature  MiscVal  MoSold  YrSold  SaleType  SaleCondition  \n",
      "0            2        0       2    2008         8              4  \n",
      "1            2        0       5    2007         8              4  \n",
      "2            2        0       9    2008         8              4  \n",
      "3            2        0       2    2006         8              0  \n",
      "4            2        0      12    2008         8              4  \n",
      "\n",
      "[5 rows x 80 columns]\n",
      "     Id  MSSubClass  MSZoning  LotFrontage  LotArea  Street  Alley  LotShape  \\\n",
      "0  1461          20         2         80.0    11622       1      0         3   \n",
      "1  1462          20         3         81.0    14267       1      0         0   \n",
      "2  1463          60         3         74.0    13830       1      0         0   \n",
      "3  1464          60         3         78.0     9978       1      0         0   \n",
      "4  1465         120         3         43.0     5005       1      0         0   \n",
      "\n",
      "   LandContour  Utilities  ...  ScreenPorch  PoolArea  PoolQC  Fence  \\\n",
      "0            3          0  ...          120         0       0      2   \n",
      "1            3          0  ...            0         0       0      2   \n",
      "2            3          0  ...            0         0       0      2   \n",
      "3            3          0  ...            0         0       0      2   \n",
      "4            1          0  ...          144         0       0      2   \n",
      "\n",
      "   MiscFeature  MiscVal  MoSold  YrSold  SaleType  SaleCondition  \n",
      "0            2        0       6    2010         8              4  \n",
      "1            0    12500       6    2010         8              4  \n",
      "2            2        0       3    2010         8              4  \n",
      "3            2        0       6    2010         8              4  \n",
      "4            2        0       1    2010         8              4  \n",
      "\n",
      "[5 rows x 80 columns]\n"
     ]
    }
   ],
   "source": [
    "import pandas as pd\n",
    "import numpy as np\n",
    "from sklearn.preprocessing import StandardScaler, LabelEncoder\n",
    "\n",
    "# Load the data\n",
    "train_df = pd.read_csv('/Users/john/Downloads/house-prices-advanced-regression-techniques/train.csv')\n",
    "test_df = pd.read_csv('/Users/john/Downloads/house-prices-advanced-regression-techniques/test.csv')\n",
    "\n",
    "# Separate target variable from training data\n",
    "y = train_df['SalePrice']\n",
    "train_df = train_df.drop(['SalePrice'], axis=1)\n",
    "\n",
    "# Fill missing values for numeric features with the median\n",
    "numeric_features = train_df.select_dtypes(include=[np.number]).columns\n",
    "train_df[numeric_features] = train_df[numeric_features].fillna(train_df[numeric_features].median())\n",
    "test_df[numeric_features] = test_df[numeric_features].fillna(test_df[numeric_features].median())\n",
    "\n",
    "# Fill missing values for categorical features with the mode\n",
    "categorical_features = train_df.select_dtypes(include=[object]).columns\n",
    "train_df[categorical_features] = train_df[categorical_features].fillna(train_df[categorical_features].mode().iloc[0])\n",
    "test_df[categorical_features] = test_df[categorical_features].fillna(test_df[categorical_features].mode().iloc[0])\n",
    "\n",
    "# Encode categorical variables\n",
    "label_encoders = {}\n",
    "for column in categorical_features:\n",
    "    le = LabelEncoder()\n",
    "    train_df[column] = le.fit_transform(train_df[column])\n",
    "    test_df[column] = le.transform(test_df[column])\n",
    "    label_encoders[column] = le\n",
    "\n",
    "# Ensure all columns are encoded correctly\n",
    "print(train_df.head())\n",
    "print(test_df.head())\n"
   ]
  },
  {
   "cell_type": "markdown",
   "id": "ff3afd73",
   "metadata": {},
   "source": [
    "## Feature Scaling"
   ]
  },
  {
   "cell_type": "code",
   "execution_count": 8,
   "id": "41d6ed62",
   "metadata": {},
   "outputs": [],
   "source": [
    "# Feature scaling\n",
    "scaler = StandardScaler()\n",
    "train_df[numeric_features] = scaler.fit_transform(train_df[numeric_features])\n",
    "test_df[numeric_features] = scaler.transform(test_df[numeric_features])\n"
   ]
  },
  {
   "cell_type": "markdown",
   "id": "d5f203fc",
   "metadata": {},
   "source": [
    "## Feature Selection and Splitting Data"
   ]
  },
  {
   "cell_type": "code",
   "execution_count": 9,
   "id": "6afcd07d",
   "metadata": {},
   "outputs": [],
   "source": [
    "# Add SalePrice back to the train_df for correlation computation\n",
    "train_df['SalePrice'] = y\n",
    "\n",
    "# Selecting high correlation features\n",
    "corr_matrix = train_df.corr()\n",
    "high_corr_features = corr_matrix.index[abs(corr_matrix[\"SalePrice\"]) > 0.5]\n",
    "\n",
    "# Prepare training data\n",
    "X = train_df[high_corr_features].drop(\"SalePrice\", axis=1)\n",
    "y = train_df['SalePrice']\n",
    "\n",
    "# Splitting data into training and validation sets\n",
    "from sklearn.model_selection import train_test_split\n",
    "\n",
    "X_train, X_val, y_train, y_val = train_test_split(X, y, test_size=0.2, random_state=42)\n"
   ]
  },
  {
   "cell_type": "markdown",
   "id": "dbce829c",
   "metadata": {},
   "source": [
    "## Model Training and Evaluation"
   ]
  },
  {
   "cell_type": "code",
   "execution_count": 10,
   "id": "327b0731",
   "metadata": {},
   "outputs": [
    {
     "name": "stdout",
     "output_type": "stream",
     "text": [
      "RMSE: 37195.83368735172\n",
      "Cross-validated RMSE: 36575.27639489314\n"
     ]
    }
   ],
   "source": [
    "from sklearn.linear_model import LinearRegression\n",
    "from sklearn.metrics import mean_squared_error\n",
    "\n",
    "# Train a Linear Regression model\n",
    "lr = LinearRegression()\n",
    "lr.fit(X_train, y_train)\n",
    "y_pred = lr.predict(X_val)\n",
    "\n",
    "# Evaluate the model\n",
    "rmse = np.sqrt(mean_squared_error(y_val, y_pred))\n",
    "print(f\"RMSE: {rmse}\")\n",
    "\n",
    "# Cross-validation\n",
    "from sklearn.model_selection import cross_val_score\n",
    "\n",
    "cv_scores = cross_val_score(lr, X, y, cv=5, scoring='neg_root_mean_squared_error')\n",
    "print(f\"Cross-validated RMSE: {-cv_scores.mean()}\")\n"
   ]
  },
  {
   "cell_type": "markdown",
   "id": "d0a8a3c4",
   "metadata": {},
   "source": [
    "## Submission"
   ]
  },
  {
   "cell_type": "code",
   "execution_count": 11,
   "id": "79ad504d",
   "metadata": {},
   "outputs": [
    {
     "ename": "TypeError",
     "evalue": "Index.drop() got an unexpected keyword argument 'axis'",
     "output_type": "error",
     "traceback": [
      "\u001b[0;31m---------------------------------------------------------------------------\u001b[0m",
      "\u001b[0;31mTypeError\u001b[0m                                 Traceback (most recent call last)",
      "Cell \u001b[0;32mIn[11], line 2\u001b[0m\n\u001b[1;32m      1\u001b[0m \u001b[38;5;66;03m# Predict on test data\u001b[39;00m\n\u001b[0;32m----> 2\u001b[0m test_features \u001b[38;5;241m=\u001b[39m test_df[high_corr_features\u001b[38;5;241m.\u001b[39mdrop(\u001b[38;5;124m\"\u001b[39m\u001b[38;5;124mSalePrice\u001b[39m\u001b[38;5;124m\"\u001b[39m, axis\u001b[38;5;241m=\u001b[39m\u001b[38;5;241m0\u001b[39m)]\n\u001b[1;32m      3\u001b[0m test_predictions \u001b[38;5;241m=\u001b[39m lr\u001b[38;5;241m.\u001b[39mpredict(test_features)\n\u001b[1;32m      5\u001b[0m \u001b[38;5;66;03m# Create submission file\u001b[39;00m\n",
      "\u001b[0;31mTypeError\u001b[0m: Index.drop() got an unexpected keyword argument 'axis'"
     ]
    }
   ],
   "source": [
    "# Predict on test data\n",
    "test_features = test_df[high_corr_features.drop(\"SalePrice\", axis=0)]\n",
    "test_predictions = lr.predict(test_features)\n",
    "\n",
    "# Create submission file\n",
    "submission = pd.DataFrame({'Id': test_df['Id'], 'SalePrice': test_predictions})\n",
    "submission.to_csv('/Users/john/Downloads/house-prices-advanced-regression-techniques/submission.csv', index=False)\n"
   ]
  },
  {
   "cell_type": "markdown",
   "id": "e397e2f4",
   "metadata": {},
   "source": [
    "## Step 1: Handle Missing Values and Encode Categorical Variables"
   ]
  },
  {
   "cell_type": "code",
   "execution_count": 12,
   "id": "726f56ea",
   "metadata": {},
   "outputs": [
    {
     "name": "stdout",
     "output_type": "stream",
     "text": [
      "   Id  MSSubClass  MSZoning  LotFrontage  LotArea  Street  Alley  LotShape  \\\n",
      "0   1          60         3         65.0     8450       1      0         3   \n",
      "1   2          20         3         80.0     9600       1      0         3   \n",
      "2   3          60         3         68.0    11250       1      0         0   \n",
      "3   4          70         3         60.0     9550       1      0         0   \n",
      "4   5          60         3         84.0    14260       1      0         0   \n",
      "\n",
      "   LandContour  Utilities  ...  ScreenPorch  PoolArea  PoolQC  Fence  \\\n",
      "0            3          0  ...            0         0       2      2   \n",
      "1            3          0  ...            0         0       2      2   \n",
      "2            3          0  ...            0         0       2      2   \n",
      "3            3          0  ...            0         0       2      2   \n",
      "4            3          0  ...            0         0       2      2   \n",
      "\n",
      "   MiscFeature  MiscVal  MoSold  YrSold  SaleType  SaleCondition  \n",
      "0            2        0       2    2008         8              4  \n",
      "1            2        0       5    2007         8              4  \n",
      "2            2        0       9    2008         8              4  \n",
      "3            2        0       2    2006         8              0  \n",
      "4            2        0      12    2008         8              4  \n",
      "\n",
      "[5 rows x 80 columns]\n",
      "     Id  MSSubClass  MSZoning  LotFrontage  LotArea  Street  Alley  LotShape  \\\n",
      "0  1461          20         2         80.0    11622       1      0         3   \n",
      "1  1462          20         3         81.0    14267       1      0         0   \n",
      "2  1463          60         3         74.0    13830       1      0         0   \n",
      "3  1464          60         3         78.0     9978       1      0         0   \n",
      "4  1465         120         3         43.0     5005       1      0         0   \n",
      "\n",
      "   LandContour  Utilities  ...  ScreenPorch  PoolArea  PoolQC  Fence  \\\n",
      "0            3          0  ...          120         0       0      2   \n",
      "1            3          0  ...            0         0       0      2   \n",
      "2            3          0  ...            0         0       0      2   \n",
      "3            3          0  ...            0         0       0      2   \n",
      "4            1          0  ...          144         0       0      2   \n",
      "\n",
      "   MiscFeature  MiscVal  MoSold  YrSold  SaleType  SaleCondition  \n",
      "0            2        0       6    2010         8              4  \n",
      "1            0    12500       6    2010         8              4  \n",
      "2            2        0       3    2010         8              4  \n",
      "3            2        0       6    2010         8              4  \n",
      "4            2        0       1    2010         8              4  \n",
      "\n",
      "[5 rows x 80 columns]\n"
     ]
    }
   ],
   "source": [
    "import pandas as pd\n",
    "import numpy as np\n",
    "from sklearn.preprocessing import StandardScaler, LabelEncoder\n",
    "\n",
    "# Load the data\n",
    "train_df = pd.read_csv('/Users/john/Downloads/house-prices-advanced-regression-techniques/train.csv')\n",
    "test_df = pd.read_csv('/Users/john/Downloads/house-prices-advanced-regression-techniques/test.csv')\n",
    "\n",
    "# Separate target variable from training data\n",
    "y = train_df['SalePrice']\n",
    "train_df = train_df.drop(['SalePrice'], axis=1)\n",
    "\n",
    "# Fill missing values for numeric features with the median\n",
    "numeric_features = train_df.select_dtypes(include=[np.number]).columns\n",
    "train_df[numeric_features] = train_df[numeric_features].fillna(train_df[numeric_features].median())\n",
    "test_df[numeric_features] = test_df[numeric_features].fillna(test_df[numeric_features].median())\n",
    "\n",
    "# Fill missing values for categorical features with the mode\n",
    "categorical_features = train_df.select_dtypes(include=[object]).columns\n",
    "train_df[categorical_features] = train_df[categorical_features].fillna(train_df[categorical_features].mode().iloc[0])\n",
    "test_df[categorical_features] = test_df[categorical_features].fillna(test_df[categorical_features].mode().iloc[0])\n",
    "\n",
    "# Encode categorical variables\n",
    "label_encoders = {}\n",
    "for column in categorical_features:\n",
    "    le = LabelEncoder()\n",
    "    train_df[column] = le.fit_transform(train_df[column])\n",
    "    test_df[column] = le.transform(test_df[column])\n",
    "    label_encoders[column] = le\n",
    "\n",
    "# Ensure all columns are encoded correctly\n",
    "print(train_df.head())\n",
    "print(test_df.head())\n"
   ]
  },
  {
   "cell_type": "markdown",
   "id": "7fd9c16e",
   "metadata": {},
   "source": [
    "## Feature Scaling"
   ]
  },
  {
   "cell_type": "code",
   "execution_count": 13,
   "id": "8e454da3",
   "metadata": {},
   "outputs": [],
   "source": [
    "# Feature scaling\n",
    "scaler = StandardScaler()\n",
    "train_df[numeric_features] = scaler.fit_transform(train_df[numeric_features])\n",
    "test_df[numeric_features] = scaler.transform(test_df[numeric_features])\n"
   ]
  },
  {
   "cell_type": "markdown",
   "id": "19b3dc3a",
   "metadata": {},
   "source": [
    "## Feature Selection and Splitting Data"
   ]
  },
  {
   "cell_type": "code",
   "execution_count": 14,
   "id": "9bf8b933",
   "metadata": {},
   "outputs": [],
   "source": [
    "# Add SalePrice back to the train_df for correlation computation\n",
    "train_df['SalePrice'] = y\n",
    "\n",
    "# Selecting high correlation features\n",
    "corr_matrix = train_df.corr()\n",
    "high_corr_features = corr_matrix.index[abs(corr_matrix[\"SalePrice\"]) > 0.5]\n",
    "\n",
    "# Prepare training data\n",
    "X = train_df[high_corr_features.drop(\"SalePrice\")]\n",
    "y = train_df['SalePrice']\n",
    "\n",
    "# Splitting data into training and validation sets\n",
    "from sklearn.model_selection import train_test_split\n",
    "\n",
    "X_train, X_val, y_train, y_val = train_test_split(X, y, test_size=0.2, random_state=42)\n"
   ]
  },
  {
   "cell_type": "markdown",
   "id": "46f0c008",
   "metadata": {},
   "source": [
    "## Model Training and Evaluation"
   ]
  },
  {
   "cell_type": "code",
   "execution_count": 15,
   "id": "d9c24752",
   "metadata": {},
   "outputs": [
    {
     "name": "stdout",
     "output_type": "stream",
     "text": [
      "RMSE: 37195.83368735172\n",
      "Cross-validated RMSE: 36575.27639489314\n"
     ]
    }
   ],
   "source": [
    "from sklearn.linear_model import LinearRegression\n",
    "from sklearn.metrics import mean_squared_error\n",
    "\n",
    "# Train a Linear Regression model\n",
    "lr = LinearRegression()\n",
    "lr.fit(X_train, y_train)\n",
    "y_pred = lr.predict(X_val)\n",
    "\n",
    "# Evaluate the model\n",
    "rmse = np.sqrt(mean_squared_error(y_val, y_pred))\n",
    "print(f\"RMSE: {rmse}\")\n",
    "\n",
    "# Cross-validation\n",
    "from sklearn.model_selection import cross_val_score\n",
    "\n",
    "cv_scores = cross_val_score(lr, X, y, cv=5, scoring='neg_root_mean_squared_error')\n",
    "print(f\"Cross-validated RMSE: {-cv_scores.mean()}\")\n"
   ]
  },
  {
   "cell_type": "markdown",
   "id": "5a5f1624",
   "metadata": {},
   "source": [
    "## Submission"
   ]
  },
  {
   "cell_type": "code",
   "execution_count": 16,
   "id": "75ef0727",
   "metadata": {},
   "outputs": [],
   "source": [
    "# Predict on test data\n",
    "test_features = test_df[high_corr_features.drop(\"SalePrice\")]\n",
    "test_predictions = lr.predict(test_features)\n",
    "\n",
    "# Create submission file\n",
    "submission = pd.DataFrame({'Id': test_df['Id'], 'SalePrice': test_predictions})\n",
    "submission.to_csv('/Users/john/Downloads/house-prices-advanced-regression-techniques/submission.csv', index=False)\n"
   ]
  },
  {
   "cell_type": "markdown",
   "id": "08b2df59",
   "metadata": {},
   "source": [
    "this failed; told it to match the format of sample_submission.csv"
   ]
  },
  {
   "cell_type": "code",
   "execution_count": 17,
   "id": "6de55193",
   "metadata": {},
   "outputs": [
    {
     "name": "stdout",
     "output_type": "stream",
     "text": [
      "   Id  MSSubClass  MSZoning  LotFrontage  LotArea  Street  Alley  LotShape  \\\n",
      "0   1          60         3         65.0     8450       1      0         3   \n",
      "1   2          20         3         80.0     9600       1      0         3   \n",
      "2   3          60         3         68.0    11250       1      0         0   \n",
      "3   4          70         3         60.0     9550       1      0         0   \n",
      "4   5          60         3         84.0    14260       1      0         0   \n",
      "\n",
      "   LandContour  Utilities  ...  ScreenPorch  PoolArea  PoolQC  Fence  \\\n",
      "0            3          0  ...            0         0       2      2   \n",
      "1            3          0  ...            0         0       2      2   \n",
      "2            3          0  ...            0         0       2      2   \n",
      "3            3          0  ...            0         0       2      2   \n",
      "4            3          0  ...            0         0       2      2   \n",
      "\n",
      "   MiscFeature  MiscVal  MoSold  YrSold  SaleType  SaleCondition  \n",
      "0            2        0       2    2008         8              4  \n",
      "1            2        0       5    2007         8              4  \n",
      "2            2        0       9    2008         8              4  \n",
      "3            2        0       2    2006         8              0  \n",
      "4            2        0      12    2008         8              4  \n",
      "\n",
      "[5 rows x 80 columns]\n",
      "     Id  MSSubClass  MSZoning  LotFrontage  LotArea  Street  Alley  LotShape  \\\n",
      "0  1461          20         2         80.0    11622       1      0         3   \n",
      "1  1462          20         3         81.0    14267       1      0         0   \n",
      "2  1463          60         3         74.0    13830       1      0         0   \n",
      "3  1464          60         3         78.0     9978       1      0         0   \n",
      "4  1465         120         3         43.0     5005       1      0         0   \n",
      "\n",
      "   LandContour  Utilities  ...  ScreenPorch  PoolArea  PoolQC  Fence  \\\n",
      "0            3          0  ...          120         0       0      2   \n",
      "1            3          0  ...            0         0       0      2   \n",
      "2            3          0  ...            0         0       0      2   \n",
      "3            3          0  ...            0         0       0      2   \n",
      "4            1          0  ...          144         0       0      2   \n",
      "\n",
      "   MiscFeature  MiscVal  MoSold  YrSold  SaleType  SaleCondition  \n",
      "0            2        0       6    2010         8              4  \n",
      "1            0    12500       6    2010         8              4  \n",
      "2            2        0       3    2010         8              4  \n",
      "3            2        0       6    2010         8              4  \n",
      "4            2        0       1    2010         8              4  \n",
      "\n",
      "[5 rows x 80 columns]\n"
     ]
    }
   ],
   "source": [
    "import pandas as pd\n",
    "import numpy as np\n",
    "from sklearn.preprocessing import StandardScaler, LabelEncoder\n",
    "\n",
    "# Load the data\n",
    "train_df = pd.read_csv('/Users/john/Downloads/house-prices-advanced-regression-techniques/train.csv')\n",
    "test_df = pd.read_csv('/Users/john/Downloads/house-prices-advanced-regression-techniques/test.csv')\n",
    "sample_submission = pd.read_csv('/Users/john/Downloads/house-prices-advanced-regression-techniques/sample_submission.csv')\n",
    "\n",
    "# Separate target variable from training data\n",
    "y = train_df['SalePrice']\n",
    "train_df = train_df.drop(['SalePrice'], axis=1)\n",
    "\n",
    "# Fill missing values for numeric features with the median\n",
    "numeric_features = train_df.select_dtypes(include=[np.number]).columns\n",
    "train_df[numeric_features] = train_df[numeric_features].fillna(train_df[numeric_features].median())\n",
    "test_df[numeric_features] = test_df[numeric_features].fillna(test_df[numeric_features].median())\n",
    "\n",
    "# Fill missing values for categorical features with the mode\n",
    "categorical_features = train_df.select_dtypes(include=[object]).columns\n",
    "train_df[categorical_features] = train_df[categorical_features].fillna(train_df[categorical_features].mode().iloc[0])\n",
    "test_df[categorical_features] = test_df[categorical_features].fillna(test_df[categorical_features].mode().iloc[0])\n",
    "\n",
    "# Encode categorical variables\n",
    "label_encoders = {}\n",
    "for column in categorical_features:\n",
    "    le = LabelEncoder()\n",
    "    train_df[column] = le.fit_transform(train_df[column])\n",
    "    test_df[column] = le.transform(test_df[column])\n",
    "    label_encoders[column] = le\n",
    "\n",
    "# Ensure all columns are encoded correctly\n",
    "print(train_df.head())\n",
    "print(test_df.head())\n"
   ]
  },
  {
   "cell_type": "code",
   "execution_count": 18,
   "id": "d2beaaf0",
   "metadata": {},
   "outputs": [],
   "source": [
    "# Feature scaling\n",
    "scaler = StandardScaler()\n",
    "train_df[numeric_features] = scaler.fit_transform(train_df[numeric_features])\n",
    "test_df[numeric_features] = scaler.transform(test_df[numeric_features])\n"
   ]
  },
  {
   "cell_type": "code",
   "execution_count": 19,
   "id": "48a3a75d",
   "metadata": {},
   "outputs": [],
   "source": [
    "# Add SalePrice back to the train_df for correlation computation\n",
    "train_df['SalePrice'] = y\n",
    "\n",
    "# Selecting high correlation features\n",
    "corr_matrix = train_df.corr()\n",
    "high_corr_features = corr_matrix.index[abs(corr_matrix[\"SalePrice\"]) > 0.5]\n",
    "\n",
    "# Prepare training data\n",
    "X = train_df[high_corr_features.drop(\"SalePrice\")]\n",
    "y = train_df['SalePrice']\n",
    "\n",
    "# Splitting data into training and validation sets\n",
    "from sklearn.model_selection import train_test_split\n",
    "\n",
    "X_train, X_val, y_train, y_val = train_test_split(X, y, test_size=0.2, random_state=42)\n"
   ]
  },
  {
   "cell_type": "code",
   "execution_count": 20,
   "id": "6fbae636",
   "metadata": {},
   "outputs": [
    {
     "name": "stdout",
     "output_type": "stream",
     "text": [
      "RMSE: 37195.83368735172\n",
      "Cross-validated RMSE: 36575.27639489314\n"
     ]
    }
   ],
   "source": [
    "from sklearn.linear_model import LinearRegression\n",
    "from sklearn.metrics import mean_squared_error\n",
    "\n",
    "# Train a Linear Regression model\n",
    "lr = LinearRegression()\n",
    "lr.fit(X_train, y_train)\n",
    "y_pred = lr.predict(X_val)\n",
    "\n",
    "# Evaluate the model\n",
    "rmse = np.sqrt(mean_squared_error(y_val, y_pred))\n",
    "print(f\"RMSE: {rmse}\")\n",
    "\n",
    "# Cross-validation\n",
    "from sklearn.model_selection import cross_val_score\n",
    "\n",
    "cv_scores = cross_val_score(lr, X, y, cv=5, scoring='neg_root_mean_squared_error')\n",
    "print(f\"Cross-validated RMSE: {-cv_scores.mean()}\")\n"
   ]
  },
  {
   "cell_type": "code",
   "execution_count": 21,
   "id": "398f6e72",
   "metadata": {},
   "outputs": [],
   "source": [
    "# Predict on test data\n",
    "test_features = test_df[high_corr_features.drop(\"SalePrice\")]\n",
    "test_predictions = lr.predict(test_features)\n",
    "\n",
    "# Create submission file matching the format of sample_submission.csv\n",
    "submission = pd.DataFrame({'Id': sample_submission['Id'], 'SalePrice': test_predictions})\n",
    "submission.to_csv('/Users/john/Downloads/house-prices-advanced-regression-techniques/submission.csv', index=False)\n"
   ]
  },
  {
   "cell_type": "markdown",
   "id": "5b0f27c9",
   "metadata": {},
   "source": [
    "got a 0.18 number 3871 see if we can improve this"
   ]
  },
  {
   "cell_type": "code",
   "execution_count": 22,
   "id": "e2640494",
   "metadata": {},
   "outputs": [],
   "source": [
    "import pandas as pd\n",
    "import numpy as np\n",
    "from sklearn.preprocessing import StandardScaler, LabelEncoder, OneHotEncoder\n",
    "from sklearn.compose import ColumnTransformer\n",
    "from sklearn.pipeline import Pipeline\n",
    "from sklearn.impute import SimpleImputer\n",
    "\n",
    "# Load the data\n",
    "train_df = pd.read_csv('/Users/john/Downloads/house-prices-advanced-regression-techniques/train.csv')\n",
    "test_df = pd.read_csv('/Users/john/Downloads/house-prices-advanced-regression-techniques/test.csv')\n",
    "sample_submission = pd.read_csv('/Users/john/Downloads/house-prices-advanced-regression-techniques/sample_submission.csv')\n",
    "\n",
    "# Separate target variable from training data\n",
    "y = train_df['SalePrice']\n",
    "train_df = train_df.drop(['SalePrice'], axis=1)\n",
    "\n",
    "# List of numerical and categorical features\n",
    "numeric_features = train_df.select_dtypes(include=[np.number]).columns\n",
    "categorical_features = train_df.select_dtypes(include=[object]).columns\n",
    "\n",
    "# Preprocessing pipeline for numerical features\n",
    "numeric_transformer = Pipeline(steps=[\n",
    "    ('imputer', SimpleImputer(strategy='median')),\n",
    "    ('scaler', StandardScaler())])\n",
    "\n",
    "# Preprocessing pipeline for categorical features\n",
    "categorical_transformer = Pipeline(steps=[\n",
    "    ('imputer', SimpleImputer(strategy='most_frequent')),\n",
    "    ('onehot', OneHotEncoder(handle_unknown='ignore'))])\n",
    "\n",
    "# Combine preprocessing pipelines\n",
    "preprocessor = ColumnTransformer(\n",
    "    transformers=[\n",
    "        ('num', numeric_transformer, numeric_features),\n",
    "        ('cat', categorical_transformer, categorical_features)])\n",
    "\n",
    "# Apply the transformations\n",
    "X_train = preprocessor.fit_transform(train_df)\n",
    "X_test = preprocessor.transform(test_df)\n"
   ]
  },
  {
   "cell_type": "code",
   "execution_count": 23,
   "id": "e0ed52b8",
   "metadata": {},
   "outputs": [
    {
     "name": "stdout",
     "output_type": "stream",
     "text": [
      "Training ridge...\n"
     ]
    },
    {
     "name": "stderr",
     "output_type": "stream",
     "text": [
      "/Users/john/anaconda3/lib/python3.11/site-packages/pandas/core/arrays/masked.py:60: UserWarning: Pandas requires version '1.3.6' or newer of 'bottleneck' (version '1.3.5' currently installed).\n",
      "  from pandas.core import (\n",
      "/Users/john/anaconda3/lib/python3.11/site-packages/pandas/core/arrays/masked.py:60: UserWarning: Pandas requires version '1.3.6' or newer of 'bottleneck' (version '1.3.5' currently installed).\n",
      "  from pandas.core import (\n",
      "/Users/john/anaconda3/lib/python3.11/site-packages/pandas/core/arrays/masked.py:60: UserWarning: Pandas requires version '1.3.6' or newer of 'bottleneck' (version '1.3.5' currently installed).\n",
      "  from pandas.core import (\n",
      "/Users/john/anaconda3/lib/python3.11/site-packages/pandas/core/arrays/masked.py:60: UserWarning: Pandas requires version '1.3.6' or newer of 'bottleneck' (version '1.3.5' currently installed).\n",
      "  from pandas.core import (\n",
      "/Users/john/anaconda3/lib/python3.11/site-packages/pandas/core/arrays/masked.py:60: UserWarning: Pandas requires version '1.3.6' or newer of 'bottleneck' (version '1.3.5' currently installed).\n",
      "  from pandas.core import (\n",
      "/Users/john/anaconda3/lib/python3.11/site-packages/pandas/core/arrays/masked.py:60: UserWarning: Pandas requires version '1.3.6' or newer of 'bottleneck' (version '1.3.5' currently installed).\n",
      "  from pandas.core import (\n",
      "/Users/john/anaconda3/lib/python3.11/site-packages/pandas/core/arrays/masked.py:60: UserWarning: Pandas requires version '1.3.6' or newer of 'bottleneck' (version '1.3.5' currently installed).\n",
      "  from pandas.core import (\n",
      "/Users/john/anaconda3/lib/python3.11/site-packages/pandas/core/arrays/masked.py:60: UserWarning: Pandas requires version '1.3.6' or newer of 'bottleneck' (version '1.3.5' currently installed).\n",
      "  from pandas.core import (\n",
      "/Users/john/anaconda3/lib/python3.11/site-packages/pandas/core/arrays/masked.py:60: UserWarning: Pandas requires version '1.3.6' or newer of 'bottleneck' (version '1.3.5' currently installed).\n",
      "  from pandas.core import (\n",
      "/Users/john/anaconda3/lib/python3.11/site-packages/pandas/core/arrays/masked.py:60: UserWarning: Pandas requires version '1.3.6' or newer of 'bottleneck' (version '1.3.5' currently installed).\n",
      "  from pandas.core import (\n"
     ]
    },
    {
     "name": "stdout",
     "output_type": "stream",
     "text": [
      "Best params for ridge: {'alpha': 10.0}\n",
      "Best CV score for ridge: 31111.85506302248\n",
      "Training lasso...\n"
     ]
    },
    {
     "name": "stderr",
     "output_type": "stream",
     "text": [
      "/Users/john/anaconda3/lib/python3.11/site-packages/sklearn/linear_model/_coordinate_descent.py:589: ConvergenceWarning: Objective did not converge. You might want to increase the number of iterations. Duality gap: 117679256561.79984, tolerance: 724930391.3116125\n",
      "  model = cd_fast.sparse_enet_coordinate_descent(\n",
      "/Users/john/anaconda3/lib/python3.11/site-packages/sklearn/linear_model/_coordinate_descent.py:589: ConvergenceWarning: Objective did not converge. You might want to increase the number of iterations. Duality gap: 117453682752.80618, tolerance: 724930391.3116125\n",
      "  model = cd_fast.sparse_enet_coordinate_descent(\n",
      "/Users/john/anaconda3/lib/python3.11/site-packages/sklearn/linear_model/_coordinate_descent.py:589: ConvergenceWarning: Objective did not converge. You might want to increase the number of iterations. Duality gap: 80073388411.82462, tolerance: 770619031.1834052\n",
      "  model = cd_fast.sparse_enet_coordinate_descent(\n",
      "/Users/john/anaconda3/lib/python3.11/site-packages/sklearn/linear_model/_coordinate_descent.py:589: ConvergenceWarning: Objective did not converge. You might want to increase the number of iterations. Duality gap: 71706623569.40408, tolerance: 699031751.5199751\n",
      "  model = cd_fast.sparse_enet_coordinate_descent(\n",
      "/Users/john/anaconda3/lib/python3.11/site-packages/sklearn/linear_model/_coordinate_descent.py:589: ConvergenceWarning: Objective did not converge. You might want to increase the number of iterations. Duality gap: 104518385704.79805, tolerance: 728773513.0259368\n",
      "  model = cd_fast.sparse_enet_coordinate_descent(\n",
      "/Users/john/anaconda3/lib/python3.11/site-packages/sklearn/linear_model/_coordinate_descent.py:589: ConvergenceWarning: Objective did not converge. You might want to increase the number of iterations. Duality gap: 51713889291.65961, tolerance: 759214014.2531193\n",
      "  model = cd_fast.sparse_enet_coordinate_descent(\n",
      "/Users/john/anaconda3/lib/python3.11/site-packages/sklearn/linear_model/_coordinate_descent.py:589: ConvergenceWarning: Objective did not converge. You might want to increase the number of iterations. Duality gap: 63030160083.57837, tolerance: 699031751.5199751\n",
      "  model = cd_fast.sparse_enet_coordinate_descent(\n",
      "/Users/john/anaconda3/lib/python3.11/site-packages/sklearn/linear_model/_coordinate_descent.py:589: ConvergenceWarning: Objective did not converge. You might want to increase the number of iterations. Duality gap: 70953124805.89368, tolerance: 728773513.0259368\n",
      "  model = cd_fast.sparse_enet_coordinate_descent(\n",
      "/Users/john/anaconda3/lib/python3.11/site-packages/sklearn/linear_model/_coordinate_descent.py:589: ConvergenceWarning: Objective did not converge. You might want to increase the number of iterations. Duality gap: 58699542956.621, tolerance: 770619031.1834052\n",
      "  model = cd_fast.sparse_enet_coordinate_descent(\n",
      "/Users/john/anaconda3/lib/python3.11/site-packages/sklearn/linear_model/_coordinate_descent.py:589: ConvergenceWarning: Objective did not converge. You might want to increase the number of iterations. Duality gap: 101954032534.39963, tolerance: 759214014.2531193\n",
      "  model = cd_fast.sparse_enet_coordinate_descent(\n",
      "/Users/john/anaconda3/lib/python3.11/site-packages/sklearn/linear_model/_coordinate_descent.py:589: ConvergenceWarning: Objective did not converge. You might want to increase the number of iterations. Duality gap: 19657138691.19165, tolerance: 759214014.2531193\n",
      "  model = cd_fast.sparse_enet_coordinate_descent(\n",
      "/Users/john/anaconda3/lib/python3.11/site-packages/sklearn/linear_model/_coordinate_descent.py:589: ConvergenceWarning: Objective did not converge. You might want to increase the number of iterations. Duality gap: 9902532703.833008, tolerance: 724930391.3116125\n",
      "  model = cd_fast.sparse_enet_coordinate_descent(\n",
      "/Users/john/anaconda3/lib/python3.11/site-packages/sklearn/linear_model/_coordinate_descent.py:589: ConvergenceWarning: Objective did not converge. You might want to increase the number of iterations. Duality gap: 10178874518.03418, tolerance: 699031751.5199751\n",
      "  model = cd_fast.sparse_enet_coordinate_descent(\n",
      "/Users/john/anaconda3/lib/python3.11/site-packages/sklearn/linear_model/_coordinate_descent.py:589: ConvergenceWarning: Objective did not converge. You might want to increase the number of iterations. Duality gap: 105320747452.3292, tolerance: 920791133.4609987\n",
      "  model = cd_fast.sparse_enet_coordinate_descent(\n"
     ]
    },
    {
     "name": "stdout",
     "output_type": "stream",
     "text": [
      "Best params for lasso: {'alpha': 0.01}\n",
      "Best CV score for lasso: 34465.373672339054\n",
      "Training elasticnet...\n",
      "Best params for elasticnet: {'alpha': 0.1, 'l1_ratio': 0.8}\n",
      "Best CV score for elasticnet: 31045.49724883262\n",
      "Training gbr...\n",
      "Best params for gbr: {'learning_rate': 0.1, 'n_estimators': 200}\n",
      "Best CV score for gbr: 26277.917296814092\n",
      "Training rf...\n",
      "Best params for rf: {'max_depth': 20, 'n_estimators': 200}\n",
      "Best CV score for rf: 29806.78523122042\n",
      "Training xgb...\n",
      "Best params for xgb: {'learning_rate': 0.1, 'n_estimators': 200}\n",
      "Best CV score for xgb: 26981.828436640866\n"
     ]
    },
    {
     "name": "stderr",
     "output_type": "stream",
     "text": [
      "/Users/john/anaconda3/lib/python3.11/site-packages/sklearn/linear_model/_coordinate_descent.py:589: ConvergenceWarning: Objective did not converge. You might want to increase the number of iterations. Duality gap: 101954032534.39963, tolerance: 759214014.2531193\n",
      "  model = cd_fast.sparse_enet_coordinate_descent(\n",
      "/Users/john/anaconda3/lib/python3.11/site-packages/sklearn/linear_model/_coordinate_descent.py:589: ConvergenceWarning: Objective did not converge. You might want to increase the number of iterations. Duality gap: 104518385704.79805, tolerance: 728773513.0259368\n",
      "  model = cd_fast.sparse_enet_coordinate_descent(\n",
      "/Users/john/anaconda3/lib/python3.11/site-packages/sklearn/linear_model/_coordinate_descent.py:589: ConvergenceWarning: Objective did not converge. You might want to increase the number of iterations. Duality gap: 71706623569.40408, tolerance: 699031751.5199751\n",
      "  model = cd_fast.sparse_enet_coordinate_descent(\n",
      "/Users/john/anaconda3/lib/python3.11/site-packages/sklearn/linear_model/_coordinate_descent.py:589: ConvergenceWarning: Objective did not converge. You might want to increase the number of iterations. Duality gap: 80073388411.82462, tolerance: 770619031.1834052\n",
      "  model = cd_fast.sparse_enet_coordinate_descent(\n",
      "/Users/john/anaconda3/lib/python3.11/site-packages/sklearn/linear_model/_coordinate_descent.py:589: ConvergenceWarning: Objective did not converge. You might want to increase the number of iterations. Duality gap: 117453682752.80618, tolerance: 724930391.3116125\n",
      "  model = cd_fast.sparse_enet_coordinate_descent(\n"
     ]
    },
    {
     "name": "stdout",
     "output_type": "stream",
     "text": [
      "Best model: gbr\n"
     ]
    }
   ],
   "source": [
    "from sklearn.linear_model import Ridge, Lasso, ElasticNet\n",
    "from sklearn.ensemble import GradientBoostingRegressor, RandomForestRegressor\n",
    "from xgboost import XGBRegressor\n",
    "from sklearn.model_selection import GridSearchCV, cross_val_score\n",
    "\n",
    "# Define models and their hyperparameters for GridSearchCV\n",
    "models = {\n",
    "    'ridge': Ridge(),\n",
    "    'lasso': Lasso(),\n",
    "    'elasticnet': ElasticNet(),\n",
    "    'gbr': GradientBoostingRegressor(),\n",
    "    'rf': RandomForestRegressor(),\n",
    "    'xgb': XGBRegressor()\n",
    "}\n",
    "\n",
    "params = {\n",
    "    'ridge': {'alpha': [0.1, 1.0, 10.0]},\n",
    "    'lasso': {'alpha': [0.01, 0.1, 1.0]},\n",
    "    'elasticnet': {'alpha': [0.1, 1.0], 'l1_ratio': [0.2, 0.5, 0.8]},\n",
    "    'gbr': {'n_estimators': [100, 200], 'learning_rate': [0.01, 0.1]},\n",
    "    'rf': {'n_estimators': [100, 200], 'max_depth': [None, 10, 20]},\n",
    "    'xgb': {'n_estimators': [100, 200], 'learning_rate': [0.01, 0.1]}\n",
    "}\n",
    "\n",
    "best_models = {}\n",
    "for name, model in models.items():\n",
    "    print(f\"Training {name}...\")\n",
    "    grid_search = GridSearchCV(model, params[name], cv=5, scoring='neg_root_mean_squared_error', n_jobs=-1)\n",
    "    grid_search.fit(X_train, y)\n",
    "    best_models[name] = grid_search.best_estimator_\n",
    "    print(f\"Best params for {name}: {grid_search.best_params_}\")\n",
    "    print(f\"Best CV score for {name}: {-grid_search.best_score_}\")\n",
    "\n",
    "# Select the best model based on CV score\n",
    "best_model_name = min(best_models, key=lambda k: -cross_val_score(best_models[k], X_train, y, cv=5, scoring='neg_root_mean_squared_error').mean())\n",
    "best_model = best_models[best_model_name]\n",
    "\n",
    "# Train the best model on the entire training set\n",
    "best_model.fit(X_train, y)\n",
    "\n",
    "# Predict on test data\n",
    "test_predictions = best_model.predict(X_test)\n",
    "\n",
    "# Create submission file matching the format of sample_submission.csv\n",
    "submission = pd.DataFrame({'Id': sample_submission['Id'], 'SalePrice': test_predictions})\n",
    "submission.to_csv('/Users/john/Downloads/house-prices-advanced-regression-techniques/submission.csv', index=False)\n",
    "\n",
    "print(f\"Best model: {best_model_name}\")\n"
   ]
  },
  {
   "cell_type": "code",
   "execution_count": 24,
   "id": "3eb90252",
   "metadata": {},
   "outputs": [
    {
     "name": "stdout",
     "output_type": "stream",
     "text": [
      "Training ridge...\n"
     ]
    },
    {
     "name": "stderr",
     "output_type": "stream",
     "text": [
      "/Users/john/anaconda3/lib/python3.11/site-packages/pandas/core/arrays/masked.py:60: UserWarning: Pandas requires version '1.3.6' or newer of 'bottleneck' (version '1.3.5' currently installed).\n",
      "  from pandas.core import (\n",
      "/Users/john/anaconda3/lib/python3.11/site-packages/pandas/core/arrays/masked.py:60: UserWarning: Pandas requires version '1.3.6' or newer of 'bottleneck' (version '1.3.5' currently installed).\n",
      "  from pandas.core import (\n",
      "/Users/john/anaconda3/lib/python3.11/site-packages/pandas/core/arrays/masked.py:60: UserWarning: Pandas requires version '1.3.6' or newer of 'bottleneck' (version '1.3.5' currently installed).\n",
      "  from pandas.core import (\n",
      "/Users/john/anaconda3/lib/python3.11/site-packages/pandas/core/arrays/masked.py:60: UserWarning: Pandas requires version '1.3.6' or newer of 'bottleneck' (version '1.3.5' currently installed).\n",
      "  from pandas.core import (\n",
      "/Users/john/anaconda3/lib/python3.11/site-packages/pandas/core/arrays/masked.py:60: UserWarning: Pandas requires version '1.3.6' or newer of 'bottleneck' (version '1.3.5' currently installed).\n",
      "  from pandas.core import (\n",
      "/Users/john/anaconda3/lib/python3.11/site-packages/pandas/core/arrays/masked.py:60: UserWarning: Pandas requires version '1.3.6' or newer of 'bottleneck' (version '1.3.5' currently installed).\n",
      "  from pandas.core import (\n",
      "/Users/john/anaconda3/lib/python3.11/site-packages/pandas/core/arrays/masked.py:60: UserWarning: Pandas requires version '1.3.6' or newer of 'bottleneck' (version '1.3.5' currently installed).\n",
      "  from pandas.core import (\n",
      "/Users/john/anaconda3/lib/python3.11/site-packages/pandas/core/arrays/masked.py:60: UserWarning: Pandas requires version '1.3.6' or newer of 'bottleneck' (version '1.3.5' currently installed).\n",
      "  from pandas.core import (\n",
      "/Users/john/anaconda3/lib/python3.11/site-packages/pandas/core/arrays/masked.py:60: UserWarning: Pandas requires version '1.3.6' or newer of 'bottleneck' (version '1.3.5' currently installed).\n",
      "  from pandas.core import (\n",
      "/Users/john/anaconda3/lib/python3.11/site-packages/pandas/core/arrays/masked.py:60: UserWarning: Pandas requires version '1.3.6' or newer of 'bottleneck' (version '1.3.5' currently installed).\n",
      "  from pandas.core import (\n"
     ]
    },
    {
     "name": "stdout",
     "output_type": "stream",
     "text": [
      "Best params for ridge: {'alpha': 10.0}\n",
      "Best CV score for ridge: 31111.85506302248\n",
      "Training lasso...\n"
     ]
    },
    {
     "name": "stderr",
     "output_type": "stream",
     "text": [
      "/Users/john/anaconda3/lib/python3.11/site-packages/sklearn/linear_model/_coordinate_descent.py:589: ConvergenceWarning: Objective did not converge. You might want to increase the number of iterations. Duality gap: 117679256561.79984, tolerance: 724930391.3116125\n",
      "  model = cd_fast.sparse_enet_coordinate_descent(\n",
      "/Users/john/anaconda3/lib/python3.11/site-packages/sklearn/linear_model/_coordinate_descent.py:589: ConvergenceWarning: Objective did not converge. You might want to increase the number of iterations. Duality gap: 70953124805.89368, tolerance: 728773513.0259368\n",
      "  model = cd_fast.sparse_enet_coordinate_descent(\n",
      "/Users/john/anaconda3/lib/python3.11/site-packages/sklearn/linear_model/_coordinate_descent.py:589: ConvergenceWarning: Objective did not converge. You might want to increase the number of iterations. Duality gap: 51713889291.65961, tolerance: 759214014.2531193\n",
      "  model = cd_fast.sparse_enet_coordinate_descent(\n",
      "/Users/john/anaconda3/lib/python3.11/site-packages/sklearn/linear_model/_coordinate_descent.py:589: ConvergenceWarning: Objective did not converge. You might want to increase the number of iterations. Duality gap: 117453682752.80618, tolerance: 724930391.3116125\n",
      "  model = cd_fast.sparse_enet_coordinate_descent(\n",
      "/Users/john/anaconda3/lib/python3.11/site-packages/sklearn/linear_model/_coordinate_descent.py:589: ConvergenceWarning: Objective did not converge. You might want to increase the number of iterations. Duality gap: 80073388411.82462, tolerance: 770619031.1834052\n",
      "  model = cd_fast.sparse_enet_coordinate_descent(\n",
      "/Users/john/anaconda3/lib/python3.11/site-packages/sklearn/linear_model/_coordinate_descent.py:589: ConvergenceWarning: Objective did not converge. You might want to increase the number of iterations. Duality gap: 101954032534.39963, tolerance: 759214014.2531193\n",
      "  model = cd_fast.sparse_enet_coordinate_descent(\n",
      "/Users/john/anaconda3/lib/python3.11/site-packages/sklearn/linear_model/_coordinate_descent.py:589: ConvergenceWarning: Objective did not converge. You might want to increase the number of iterations. Duality gap: 63030160083.57837, tolerance: 699031751.5199751\n",
      "  model = cd_fast.sparse_enet_coordinate_descent(\n",
      "/Users/john/anaconda3/lib/python3.11/site-packages/sklearn/linear_model/_coordinate_descent.py:589: ConvergenceWarning: Objective did not converge. You might want to increase the number of iterations. Duality gap: 71706623569.40408, tolerance: 699031751.5199751\n",
      "  model = cd_fast.sparse_enet_coordinate_descent(\n",
      "/Users/john/anaconda3/lib/python3.11/site-packages/sklearn/linear_model/_coordinate_descent.py:589: ConvergenceWarning: Objective did not converge. You might want to increase the number of iterations. Duality gap: 58699542956.621, tolerance: 770619031.1834052\n",
      "  model = cd_fast.sparse_enet_coordinate_descent(\n",
      "/Users/john/anaconda3/lib/python3.11/site-packages/sklearn/linear_model/_coordinate_descent.py:589: ConvergenceWarning: Objective did not converge. You might want to increase the number of iterations. Duality gap: 104518385704.79805, tolerance: 728773513.0259368\n",
      "  model = cd_fast.sparse_enet_coordinate_descent(\n",
      "/Users/john/anaconda3/lib/python3.11/site-packages/sklearn/linear_model/_coordinate_descent.py:589: ConvergenceWarning: Objective did not converge. You might want to increase the number of iterations. Duality gap: 9902532703.833008, tolerance: 724930391.3116125\n",
      "  model = cd_fast.sparse_enet_coordinate_descent(\n",
      "/Users/john/anaconda3/lib/python3.11/site-packages/sklearn/linear_model/_coordinate_descent.py:589: ConvergenceWarning: Objective did not converge. You might want to increase the number of iterations. Duality gap: 10178874518.03418, tolerance: 699031751.5199751\n",
      "  model = cd_fast.sparse_enet_coordinate_descent(\n",
      "/Users/john/anaconda3/lib/python3.11/site-packages/sklearn/linear_model/_coordinate_descent.py:589: ConvergenceWarning: Objective did not converge. You might want to increase the number of iterations. Duality gap: 19657138691.19165, tolerance: 759214014.2531193\n",
      "  model = cd_fast.sparse_enet_coordinate_descent(\n",
      "/Users/john/anaconda3/lib/python3.11/site-packages/sklearn/linear_model/_coordinate_descent.py:589: ConvergenceWarning: Objective did not converge. You might want to increase the number of iterations. Duality gap: 105320747452.3292, tolerance: 920791133.4609987\n",
      "  model = cd_fast.sparse_enet_coordinate_descent(\n"
     ]
    },
    {
     "name": "stdout",
     "output_type": "stream",
     "text": [
      "Best params for lasso: {'alpha': 0.01}\n",
      "Best CV score for lasso: 34465.373672339054\n",
      "Training elasticnet...\n",
      "Best params for elasticnet: {'alpha': 0.1, 'l1_ratio': 0.8}\n",
      "Best CV score for elasticnet: 31045.49724883262\n",
      "Training gbr...\n",
      "Best params for gbr: {'learning_rate': 0.1, 'n_estimators': 200}\n",
      "Best CV score for gbr: 26013.877054701792\n",
      "Training rf...\n",
      "Best params for rf: {'max_depth': 20, 'n_estimators': 100}\n",
      "Best CV score for rf: 29853.01832757257\n",
      "Training xgb...\n",
      "Best params for xgb: {'learning_rate': 0.1, 'n_estimators': 200}\n",
      "Best CV score for xgb: 26981.828436640866\n"
     ]
    },
    {
     "name": "stderr",
     "output_type": "stream",
     "text": [
      "/Users/john/anaconda3/lib/python3.11/site-packages/sklearn/linear_model/_coordinate_descent.py:589: ConvergenceWarning: Objective did not converge. You might want to increase the number of iterations. Duality gap: 101954032534.39963, tolerance: 759214014.2531193\n",
      "  model = cd_fast.sparse_enet_coordinate_descent(\n",
      "/Users/john/anaconda3/lib/python3.11/site-packages/sklearn/linear_model/_coordinate_descent.py:589: ConvergenceWarning: Objective did not converge. You might want to increase the number of iterations. Duality gap: 104518385704.79805, tolerance: 728773513.0259368\n",
      "  model = cd_fast.sparse_enet_coordinate_descent(\n",
      "/Users/john/anaconda3/lib/python3.11/site-packages/sklearn/linear_model/_coordinate_descent.py:589: ConvergenceWarning: Objective did not converge. You might want to increase the number of iterations. Duality gap: 71706623569.40408, tolerance: 699031751.5199751\n",
      "  model = cd_fast.sparse_enet_coordinate_descent(\n",
      "/Users/john/anaconda3/lib/python3.11/site-packages/sklearn/linear_model/_coordinate_descent.py:589: ConvergenceWarning: Objective did not converge. You might want to increase the number of iterations. Duality gap: 80073388411.82462, tolerance: 770619031.1834052\n",
      "  model = cd_fast.sparse_enet_coordinate_descent(\n",
      "/Users/john/anaconda3/lib/python3.11/site-packages/sklearn/linear_model/_coordinate_descent.py:589: ConvergenceWarning: Objective did not converge. You might want to increase the number of iterations. Duality gap: 117453682752.80618, tolerance: 724930391.3116125\n",
      "  model = cd_fast.sparse_enet_coordinate_descent(\n"
     ]
    },
    {
     "name": "stdout",
     "output_type": "stream",
     "text": [
      "Best model: gbr\n",
      "Hyperparameters of the best model: {'alpha': 0.9, 'ccp_alpha': 0.0, 'criterion': 'friedman_mse', 'init': None, 'learning_rate': 0.1, 'loss': 'squared_error', 'max_depth': 3, 'max_features': None, 'max_leaf_nodes': None, 'min_impurity_decrease': 0.0, 'min_samples_leaf': 1, 'min_samples_split': 2, 'min_weight_fraction_leaf': 0.0, 'n_estimators': 200, 'n_iter_no_change': None, 'random_state': None, 'subsample': 1.0, 'tol': 0.0001, 'validation_fraction': 0.1, 'verbose': 0, 'warm_start': False}\n"
     ]
    }
   ],
   "source": [
    "from sklearn.linear_model import Ridge, Lasso, ElasticNet\n",
    "from sklearn.ensemble import GradientBoostingRegressor, RandomForestRegressor\n",
    "from xgboost import XGBRegressor\n",
    "from sklearn.model_selection import GridSearchCV, cross_val_score\n",
    "\n",
    "# Define models and their hyperparameters for GridSearchCV\n",
    "models = {\n",
    "    'ridge': Ridge(),\n",
    "    'lasso': Lasso(),\n",
    "    'elasticnet': ElasticNet(),\n",
    "    'gbr': GradientBoostingRegressor(),\n",
    "    'rf': RandomForestRegressor(),\n",
    "    'xgb': XGBRegressor()\n",
    "}\n",
    "\n",
    "params = {\n",
    "    'ridge': {'alpha': [0.1, 1.0, 10.0]},\n",
    "    'lasso': {'alpha': [0.01, 0.1, 1.0]},\n",
    "    'elasticnet': {'alpha': [0.1, 1.0], 'l1_ratio': [0.2, 0.5, 0.8]},\n",
    "    'gbr': {'n_estimators': [100, 200], 'learning_rate': [0.01, 0.1]},\n",
    "    'rf': {'n_estimators': [100, 200], 'max_depth': [None, 10, 20]},\n",
    "    'xgb': {'n_estimators': [100, 200], 'learning_rate': [0.01, 0.1]}\n",
    "}\n",
    "\n",
    "best_models = {}\n",
    "for name, model in models.items():\n",
    "    print(f\"Training {name}...\")\n",
    "    grid_search = GridSearchCV(model, params[name], cv=5, scoring='neg_root_mean_squared_error', n_jobs=-1)\n",
    "    grid_search.fit(X_train, y)\n",
    "    best_models[name] = grid_search.best_estimator_\n",
    "    print(f\"Best params for {name}: {grid_search.best_params_}\")\n",
    "    print(f\"Best CV score for {name}: {-grid_search.best_score_}\")\n",
    "\n",
    "# Select the best model based on CV score\n",
    "best_model_name = min(best_models, key=lambda k: -cross_val_score(best_models[k], X_train, y, cv=5, scoring='neg_root_mean_squared_error').mean())\n",
    "best_model = best_models[best_model_name]\n",
    "\n",
    "# Print the best model's hyperparameters\n",
    "print(f\"Best model: {best_model_name}\")\n",
    "print(f\"Hyperparameters of the best model: {best_model.get_params()}\")\n",
    "\n",
    "# Train the best model on the entire training set\n",
    "best_model.fit(X_train, y)\n",
    "\n",
    "# Predict on test data\n",
    "test_predictions = best_model.predict(X_test)\n",
    "\n",
    "# Create submission file matching the format of sample_submission.csv\n",
    "submission = pd.DataFrame({'Id': sample_submission['Id'], 'SalePrice': test_predictions})\n",
    "submission.to_csv('/Users/john/Downloads/house-prices-advanced-regression-techniques/submission.csv', index=False)\n"
   ]
  },
  {
   "cell_type": "code",
   "execution_count": 25,
   "id": "36eb3445",
   "metadata": {},
   "outputs": [
    {
     "name": "stdout",
     "output_type": "stream",
     "text": [
      "Training ridge...\n"
     ]
    },
    {
     "name": "stderr",
     "output_type": "stream",
     "text": [
      "/Users/john/anaconda3/lib/python3.11/site-packages/pandas/core/arrays/masked.py:60: UserWarning: Pandas requires version '1.3.6' or newer of 'bottleneck' (version '1.3.5' currently installed).\n",
      "  from pandas.core import (\n",
      "/Users/john/anaconda3/lib/python3.11/site-packages/pandas/core/arrays/masked.py:60: UserWarning: Pandas requires version '1.3.6' or newer of 'bottleneck' (version '1.3.5' currently installed).\n",
      "  from pandas.core import (\n",
      "/Users/john/anaconda3/lib/python3.11/site-packages/pandas/core/arrays/masked.py:60: UserWarning: Pandas requires version '1.3.6' or newer of 'bottleneck' (version '1.3.5' currently installed).\n",
      "  from pandas.core import (\n",
      "/Users/john/anaconda3/lib/python3.11/site-packages/pandas/core/arrays/masked.py:60: UserWarning: Pandas requires version '1.3.6' or newer of 'bottleneck' (version '1.3.5' currently installed).\n",
      "  from pandas.core import (\n",
      "/Users/john/anaconda3/lib/python3.11/site-packages/pandas/core/arrays/masked.py:60: UserWarning: Pandas requires version '1.3.6' or newer of 'bottleneck' (version '1.3.5' currently installed).\n",
      "  from pandas.core import (\n",
      "/Users/john/anaconda3/lib/python3.11/site-packages/pandas/core/arrays/masked.py:60: UserWarning: Pandas requires version '1.3.6' or newer of 'bottleneck' (version '1.3.5' currently installed).\n",
      "  from pandas.core import (\n",
      "/Users/john/anaconda3/lib/python3.11/site-packages/pandas/core/arrays/masked.py:60: UserWarning: Pandas requires version '1.3.6' or newer of 'bottleneck' (version '1.3.5' currently installed).\n",
      "  from pandas.core import (\n",
      "/Users/john/anaconda3/lib/python3.11/site-packages/pandas/core/arrays/masked.py:60: UserWarning: Pandas requires version '1.3.6' or newer of 'bottleneck' (version '1.3.5' currently installed).\n",
      "  from pandas.core import (\n",
      "/Users/john/anaconda3/lib/python3.11/site-packages/pandas/core/arrays/masked.py:60: UserWarning: Pandas requires version '1.3.6' or newer of 'bottleneck' (version '1.3.5' currently installed).\n",
      "  from pandas.core import (\n",
      "/Users/john/anaconda3/lib/python3.11/site-packages/pandas/core/arrays/masked.py:60: UserWarning: Pandas requires version '1.3.6' or newer of 'bottleneck' (version '1.3.5' currently installed).\n",
      "  from pandas.core import (\n"
     ]
    },
    {
     "name": "stdout",
     "output_type": "stream",
     "text": [
      "Best params for ridge: {'alpha': 10.0}\n",
      "Best CV score for ridge: 31111.85506302248\n",
      "Training lasso...\n"
     ]
    },
    {
     "name": "stderr",
     "output_type": "stream",
     "text": [
      "/Users/john/anaconda3/lib/python3.11/site-packages/sklearn/linear_model/_coordinate_descent.py:589: ConvergenceWarning: Objective did not converge. You might want to increase the number of iterations. Duality gap: 117679256561.79984, tolerance: 724930391.3116125\n",
      "  model = cd_fast.sparse_enet_coordinate_descent(\n",
      "/Users/john/anaconda3/lib/python3.11/site-packages/sklearn/linear_model/_coordinate_descent.py:589: ConvergenceWarning: Objective did not converge. You might want to increase the number of iterations. Duality gap: 101954032534.39963, tolerance: 759214014.2531193\n",
      "  model = cd_fast.sparse_enet_coordinate_descent(\n",
      "/Users/john/anaconda3/lib/python3.11/site-packages/sklearn/linear_model/_coordinate_descent.py:589: ConvergenceWarning: Objective did not converge. You might want to increase the number of iterations. Duality gap: 51713889291.65961, tolerance: 759214014.2531193\n",
      "  model = cd_fast.sparse_enet_coordinate_descent(\n",
      "/Users/john/anaconda3/lib/python3.11/site-packages/sklearn/linear_model/_coordinate_descent.py:589: ConvergenceWarning: Objective did not converge. You might want to increase the number of iterations. Duality gap: 63030160083.57837, tolerance: 699031751.5199751\n",
      "  model = cd_fast.sparse_enet_coordinate_descent(\n",
      "/Users/john/anaconda3/lib/python3.11/site-packages/sklearn/linear_model/_coordinate_descent.py:589: ConvergenceWarning: Objective did not converge. You might want to increase the number of iterations. Duality gap: 117453682752.80618, tolerance: 724930391.3116125\n",
      "  model = cd_fast.sparse_enet_coordinate_descent(\n",
      "/Users/john/anaconda3/lib/python3.11/site-packages/sklearn/linear_model/_coordinate_descent.py:589: ConvergenceWarning: Objective did not converge. You might want to increase the number of iterations. Duality gap: 80073388411.82462, tolerance: 770619031.1834052\n",
      "  model = cd_fast.sparse_enet_coordinate_descent(\n",
      "/Users/john/anaconda3/lib/python3.11/site-packages/sklearn/linear_model/_coordinate_descent.py:589: ConvergenceWarning: Objective did not converge. You might want to increase the number of iterations. Duality gap: 70953124805.89368, tolerance: 728773513.0259368\n",
      "  model = cd_fast.sparse_enet_coordinate_descent(\n",
      "/Users/john/anaconda3/lib/python3.11/site-packages/sklearn/linear_model/_coordinate_descent.py:589: ConvergenceWarning: Objective did not converge. You might want to increase the number of iterations. Duality gap: 71706623569.40408, tolerance: 699031751.5199751\n",
      "  model = cd_fast.sparse_enet_coordinate_descent(\n",
      "/Users/john/anaconda3/lib/python3.11/site-packages/sklearn/linear_model/_coordinate_descent.py:589: ConvergenceWarning: Objective did not converge. You might want to increase the number of iterations. Duality gap: 104518385704.79805, tolerance: 728773513.0259368\n",
      "  model = cd_fast.sparse_enet_coordinate_descent(\n",
      "/Users/john/anaconda3/lib/python3.11/site-packages/sklearn/linear_model/_coordinate_descent.py:589: ConvergenceWarning: Objective did not converge. You might want to increase the number of iterations. Duality gap: 58699542956.621, tolerance: 770619031.1834052\n",
      "  model = cd_fast.sparse_enet_coordinate_descent(\n",
      "/Users/john/anaconda3/lib/python3.11/site-packages/sklearn/linear_model/_coordinate_descent.py:589: ConvergenceWarning: Objective did not converge. You might want to increase the number of iterations. Duality gap: 9902532703.833008, tolerance: 724930391.3116125\n",
      "  model = cd_fast.sparse_enet_coordinate_descent(\n",
      "/Users/john/anaconda3/lib/python3.11/site-packages/sklearn/linear_model/_coordinate_descent.py:589: ConvergenceWarning: Objective did not converge. You might want to increase the number of iterations. Duality gap: 10178874518.03418, tolerance: 699031751.5199751\n",
      "  model = cd_fast.sparse_enet_coordinate_descent(\n",
      "/Users/john/anaconda3/lib/python3.11/site-packages/sklearn/linear_model/_coordinate_descent.py:589: ConvergenceWarning: Objective did not converge. You might want to increase the number of iterations. Duality gap: 19657138691.19165, tolerance: 759214014.2531193\n",
      "  model = cd_fast.sparse_enet_coordinate_descent(\n",
      "/Users/john/anaconda3/lib/python3.11/site-packages/sklearn/linear_model/_coordinate_descent.py:589: ConvergenceWarning: Objective did not converge. You might want to increase the number of iterations. Duality gap: 105320747452.3292, tolerance: 920791133.4609987\n",
      "  model = cd_fast.sparse_enet_coordinate_descent(\n"
     ]
    },
    {
     "name": "stdout",
     "output_type": "stream",
     "text": [
      "Best params for lasso: {'alpha': 0.01}\n",
      "Best CV score for lasso: 34465.373672339054\n",
      "Training elasticnet...\n",
      "Best params for elasticnet: {'alpha': 0.1, 'l1_ratio': 0.8}\n",
      "Best CV score for elasticnet: 31045.49724883262\n",
      "Training gbr...\n",
      "Best params for gbr: {'learning_rate': 0.1, 'n_estimators': 200}\n",
      "Best CV score for gbr: 25883.561544934433\n",
      "Training rf...\n",
      "Best params for rf: {'max_depth': None, 'n_estimators': 200}\n",
      "Best CV score for rf: 29696.145224493044\n",
      "Training xgb...\n",
      "Best params for xgb: {'learning_rate': 0.1, 'n_estimators': 200}\n",
      "Best CV score for xgb: 26981.828436640866\n"
     ]
    },
    {
     "name": "stderr",
     "output_type": "stream",
     "text": [
      "/Users/john/anaconda3/lib/python3.11/site-packages/sklearn/linear_model/_coordinate_descent.py:589: ConvergenceWarning: Objective did not converge. You might want to increase the number of iterations. Duality gap: 101954032534.39963, tolerance: 759214014.2531193\n",
      "  model = cd_fast.sparse_enet_coordinate_descent(\n",
      "/Users/john/anaconda3/lib/python3.11/site-packages/sklearn/linear_model/_coordinate_descent.py:589: ConvergenceWarning: Objective did not converge. You might want to increase the number of iterations. Duality gap: 104518385704.79805, tolerance: 728773513.0259368\n",
      "  model = cd_fast.sparse_enet_coordinate_descent(\n",
      "/Users/john/anaconda3/lib/python3.11/site-packages/sklearn/linear_model/_coordinate_descent.py:589: ConvergenceWarning: Objective did not converge. You might want to increase the number of iterations. Duality gap: 71706623569.40408, tolerance: 699031751.5199751\n",
      "  model = cd_fast.sparse_enet_coordinate_descent(\n",
      "/Users/john/anaconda3/lib/python3.11/site-packages/sklearn/linear_model/_coordinate_descent.py:589: ConvergenceWarning: Objective did not converge. You might want to increase the number of iterations. Duality gap: 80073388411.82462, tolerance: 770619031.1834052\n",
      "  model = cd_fast.sparse_enet_coordinate_descent(\n",
      "/Users/john/anaconda3/lib/python3.11/site-packages/sklearn/linear_model/_coordinate_descent.py:589: ConvergenceWarning: Objective did not converge. You might want to increase the number of iterations. Duality gap: 117453682752.80618, tolerance: 724930391.3116125\n",
      "  model = cd_fast.sparse_enet_coordinate_descent(\n"
     ]
    },
    {
     "name": "stdout",
     "output_type": "stream",
     "text": [
      "Best model: gbr\n",
      "Hyperparameters of the best model: {'alpha': 0.9, 'ccp_alpha': 0.0, 'criterion': 'friedman_mse', 'init': None, 'learning_rate': 0.1, 'loss': 'squared_error', 'max_depth': 3, 'max_features': None, 'max_leaf_nodes': None, 'min_impurity_decrease': 0.0, 'min_samples_leaf': 1, 'min_samples_split': 2, 'min_weight_fraction_leaf': 0.0, 'n_estimators': 200, 'n_iter_no_change': None, 'random_state': None, 'subsample': 1.0, 'tol': 0.0001, 'validation_fraction': 0.1, 'verbose': 0, 'warm_start': False}\n"
     ]
    }
   ],
   "source": [
    "from sklearn.linear_model import Ridge, Lasso, ElasticNet\n",
    "from sklearn.ensemble import GradientBoostingRegressor, RandomForestRegressor\n",
    "from xgboost import XGBRegressor\n",
    "from sklearn.model_selection import GridSearchCV, cross_val_score\n",
    "\n",
    "# Define models and their hyperparameters for GridSearchCV\n",
    "models = {\n",
    "    'ridge': Ridge(),\n",
    "    'lasso': Lasso(),\n",
    "    'elasticnet': ElasticNet(),\n",
    "    'gbr': GradientBoostingRegressor(),\n",
    "    'rf': RandomForestRegressor(),\n",
    "    'xgb': XGBRegressor()\n",
    "}\n",
    "\n",
    "params = {\n",
    "    'ridge': {'alpha': [0.1, 1.0, 10.0]},\n",
    "    'lasso': {'alpha': [0.01, 0.1, 1.0]},\n",
    "    'elasticnet': {'alpha': [0.1, 1.0], 'l1_ratio': [0.2, 0.5, 0.8]},\n",
    "    'gbr': {'n_estimators': [100, 200], 'learning_rate': [0.01, 0.1]},\n",
    "    'rf': {'n_estimators': [100, 200], 'max_depth': [None, 10, 20]},\n",
    "    'xgb': {'n_estimators': [100, 200], 'learning_rate': [0.01, 0.1]}\n",
    "}\n",
    "\n",
    "best_models = {}\n",
    "for name, model in models.items():\n",
    "    print(f\"Training {name}...\")\n",
    "    grid_search = GridSearchCV(model, params[name], cv=5, scoring='neg_root_mean_squared_error', n_jobs=-1)\n",
    "    grid_search.fit(X_train, y)\n",
    "    best_models[name] = grid_search.best_estimator_\n",
    "    print(f\"Best params for {name}: {grid_search.best_params_}\")\n",
    "    print(f\"Best CV score for {name}: {-grid_search.best_score_}\")\n",
    "\n",
    "# Select the best model based on CV score\n",
    "best_model_name = min(best_models, key=lambda k: -cross_val_score(best_models[k], X_train, y, cv=5, scoring='neg_root_mean_squared_error').mean())\n",
    "best_model = best_models[best_model_name]\n",
    "\n",
    "# Print the best model's hyperparameters\n",
    "print(f\"Best model: {best_model_name}\")\n",
    "print(f\"Hyperparameters of the best model: {best_model.get_params()}\")\n"
   ]
  },
  {
   "cell_type": "code",
   "execution_count": 26,
   "id": "96db4bd7",
   "metadata": {},
   "outputs": [
    {
     "name": "stdout",
     "output_type": "stream",
     "text": [
      "Submission file created using the best model: gbr with hyperparameters: {'alpha': 0.9, 'ccp_alpha': 0.0, 'criterion': 'friedman_mse', 'init': None, 'learning_rate': 0.1, 'loss': 'squared_error', 'max_depth': 3, 'max_features': None, 'max_leaf_nodes': None, 'min_impurity_decrease': 0.0, 'min_samples_leaf': 1, 'min_samples_split': 2, 'min_weight_fraction_leaf': 0.0, 'n_estimators': 200, 'n_iter_no_change': None, 'random_state': None, 'subsample': 1.0, 'tol': 0.0001, 'validation_fraction': 0.1, 'verbose': 0, 'warm_start': False}\n"
     ]
    }
   ],
   "source": [
    "# Train the best model on the entire training set\n",
    "best_model.fit(X_train, y)\n",
    "\n",
    "# Predict on test data\n",
    "test_predictions = best_model.predict(X_test)\n",
    "\n",
    "# Create submission file matching the format of sample_submission.csv\n",
    "submission = pd.DataFrame({'Id': sample_submission['Id'], 'SalePrice': test_predictions})\n",
    "submission.to_csv('/Users/john/Downloads/house-prices-advanced-regression-techniques/submission.csv', index=False)\n",
    "\n",
    "print(f\"Submission file created using the best model: {best_model_name} with hyperparameters: {best_model.get_params()}\")\n"
   ]
  },
  {
   "cell_type": "code",
   "execution_count": null,
   "id": "55f16698",
   "metadata": {},
   "outputs": [],
   "source": []
  }
 ],
 "metadata": {
  "kernelspec": {
   "display_name": "Python 3 (ipykernel)",
   "language": "python",
   "name": "python3"
  },
  "language_info": {
   "codemirror_mode": {
    "name": "ipython",
    "version": 3
   },
   "file_extension": ".py",
   "mimetype": "text/x-python",
   "name": "python",
   "nbconvert_exporter": "python",
   "pygments_lexer": "ipython3",
   "version": "3.11.5"
  }
 },
 "nbformat": 4,
 "nbformat_minor": 5
}
